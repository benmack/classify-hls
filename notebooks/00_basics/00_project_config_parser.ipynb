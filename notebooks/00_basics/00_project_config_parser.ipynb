{
 "cells": [
  {
   "cell_type": "markdown",
   "metadata": {},
   "source": [
    "# How to use the ``ProjectConfigParser``\n",
    "\n",
    "The purpose of the ``ProjectConfigParser`` is to serve project specific settings that are stored in one place (the *project_configs.ini*).\n",
    "\n",
    "A good example are paths to data sets. \n",
    "We often need the same paths in different functions, classes or scripts/notebooks. \n",
    "When we work with hard-coded paths and we change the location of the data, then we need ot change paths everywhere.\n",
    "\n",
    "Alternatively we can read the paths with ``ProjectConfigParser`` from the *project_configs.ini*. If something changes, we only have to change it in one place. \n",
    "\n",
    "## The *project_configs.ini*\n",
    "\n",
    "To see how the config file looks like let us first initialize an instance of the ``ProjectConfigParser()`` class. \n",
    "This object provides access to the data in the config file.\n",
    "It also has an attribute with the path of the config file.\n",
    "By default is is assumed that the config file is in *< project-root-dir >/project_configs.ini* but this can be change with the ``config_file`` parameter."
   ]
  },
  {
   "cell_type": "code",
   "execution_count": 1,
   "metadata": {},
   "outputs": [
    {
     "name": "stdout",
     "output_type": "stream",
     "text": [
      "********************************************************************************\n",
      "Location of the config file:\n",
      " /home/ben/Devel/Projects/classify-hls/project_configs.ini\n",
      "--------------------------------------------------------------------------------\n",
      "Content of the config file:\n",
      "- - - - - - - - - - - - - - - - - - - - - - - - - - - - - - \n",
      "[Default]\n",
      "rootdir: /home/ben/Devel/Projects/classify-hls\n",
      "\n",
      "[Raw]\n",
      "rootdir: /home/ben/Devel/Projects/classify-hls/data/raw\n",
      "\n",
      "[Interim]\n",
      "rootdir: /home/ben/Devel/Projects/classify-hls/data/interim\n",
      "ref20pix: /home/ben/Devel/Projects/classify-hls/data/interim/clc/clc2018_clc2018_v2018_20b2_raster100m_{tile}_epsg32623_area200000.shp\n",
      "\n",
      "[Processed]\n",
      "rootdir: /home/ben/Devel/Projects/classify-hls/data/processed\n",
      "\n"
     ]
    }
   ],
   "source": [
    "%load_ext autoreload\n",
    "%autoreload 2\n",
    "\n",
    "from src import configs\n",
    "\n",
    "prjconf = configs.ProjectConfigParser(config_file=None)\n",
    "print(\"*\"*80)\n",
    "print(\"Location of the config file:\\n \" + str(prjconf.config_file))\n",
    "print(\"-\"*80)\n",
    "print(\"Content of the config file:\\n\" + \"- \" * 30)\n",
    "\n",
    "prjconf.print_config_file_content()"
   ]
  },
  {
   "cell_type": "markdown",
   "metadata": {},
   "source": [
    "The config file has sections and each section has options.\n",
    "We can list them as follows:"
   ]
  },
  {
   "cell_type": "code",
   "execution_count": 2,
   "metadata": {},
   "outputs": [
    {
     "name": "stdout",
     "output_type": "stream",
     "text": [
      "********************************************************************************\n",
      "Sections:\n",
      "['Default', 'Raw', 'Interim', 'Processed']\n",
      "********************************************************************************\n",
      "Options of section 'Default':\n",
      "['rootdir']\n"
     ]
    }
   ],
   "source": [
    "print(\"*\" * 80)\n",
    "print(\"Sections:\")\n",
    "print(prjconf.sections())\n",
    "print(\"*\" * 80)\n",
    "print(\"Options of section 'Default':\")\n",
    "print(prjconf.options(\"Default\"))"
   ]
  },
  {
   "cell_type": "markdown",
   "metadata": {},
   "source": [
    "We get access to the values of a setting:option pair as follows:"
   ]
  },
  {
   "cell_type": "code",
   "execution_count": 3,
   "metadata": {},
   "outputs": [
    {
     "name": "stdout",
     "output_type": "stream",
     "text": [
      "Get root directories of data folders:\n",
      "/home/ben/Devel/Projects/classify-hls/data/raw\n",
      "/home/ben/Devel/Projects/classify-hls/data/interim\n",
      "/home/ben/Devel/Projects/classify-hls/data/processed\n"
     ]
    }
   ],
   "source": [
    "print(\"Get root directories of data folders:\")\n",
    "print(prjconf.get(\"Raw\", \"rootdir\"))\n",
    "print(prjconf.get(\"Interim\", \"rootdir\"))\n",
    "print(prjconf.get(\"Processed\", \"rootdir\"))"
   ]
  },
  {
   "cell_type": "markdown",
   "metadata": {},
   "source": [
    "With the ``get_path`` method the value is converted in a ``Path`` object. \n",
    "Additionally, here we find the ``tile`` argument. \n",
    "With this one we can specify the path in the config file as follows (see *{tile}*:\n",
    "\n",
    "    ref20pix: /home/ben/Devel/Projects/classify-hls/data/interim/clc/clc2018_clc2018_v2018_20b2_raster100m_{tile}_epsg32623_area200000.shp\n",
    "    \n",
    "And derive the tile specific tile:"
   ]
  },
  {
   "cell_type": "code",
   "execution_count": 5,
   "metadata": {},
   "outputs": [
    {
     "name": "stdout",
     "output_type": "stream",
     "text": [
      "/home/ben/Devel/Projects/classify-hls/data/interim/clc/clc2018_clc2018_v2018_20b2_raster100m_32UNU_epsg32623_area200000.shp\n"
     ]
    }
   ],
   "source": [
    "print(prjconf.get_path(\"Interim\", \"ref20pix\", tile=\"32UNU\"))"
   ]
  }
 ],
 "metadata": {
  "kernelspec": {
   "display_name": "Python 3",
   "language": "python",
   "name": "python3"
  },
  "language_info": {
   "codemirror_mode": {
    "name": "ipython",
    "version": 3
   },
   "file_extension": ".py",
   "mimetype": "text/x-python",
   "name": "python",
   "nbconvert_exporter": "python",
   "pygments_lexer": "ipython3",
   "version": "3.6.7"
  }
 },
 "nbformat": 4,
 "nbformat_minor": 2
}
