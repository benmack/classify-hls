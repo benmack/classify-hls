{
 "cells": [
  {
   "cell_type": "markdown",
   "metadata": {},
   "source": [
    "# Download HLS data\n",
    "\n",
    "[Harmonized Landsat Sentinel-2 (HLS) Product Homepage](https://hls.gsfc.nasa.gov/)\n",
    "\n",
    "[HLS v1.4 User Guide](https://hls.gsfc.nasa.gov/wp-content/uploads/2019/01/HLS.v1.4.UserGuide_draft_ver3.1.pdf)\n"
   ]
  },
  {
   "cell_type": "code",
   "execution_count": 1,
   "metadata": {},
   "outputs": [
    {
     "name": "stdout",
     "output_type": "stream",
     "text": [
      "Output path:\n",
      "  /home/ben/Devel/Projects/classify-hls/data/raw/hls\n"
     ]
    }
   ],
   "source": [
    "%load_ext autoreload\n",
    "%autoreload 2\n",
    "%matplotlib inline\n",
    "\n",
    "# - - - - - - - - - - - - - - - - - - - - \n",
    "# DEFAULT IMPORTS - IN ALL NOTEBOKS\n",
    "from src import configs\n",
    "\n",
    "prjconf = configs.ProjectConfigParser()\n",
    "\n",
    "# - - - - - - - - - - - - - - - - - - - - \n",
    "# NOTEBOOK SPECIFIC IMPORTS\n",
    "import nasa_hls\n",
    "\n",
    "# - - - - - - - - - - - - - - - - - - - - \n",
    "# INPUT & OUTPUT RESSOURCES\n",
    "# Input\n",
    "\n",
    "# Output\n",
    "dir_raw_hls = prjconf.get_path(\"Raw\", \"hls\")\n",
    "print(f\"Output path:\\n  {dir_raw_hls}\")\n",
    "\n",
    "# PARAMETERS\n",
    "products=[\"L30\"]\n",
    "years=[2018]\n",
    "tiles=[\"32UNU\"]"
   ]
  },
  {
   "cell_type": "markdown",
   "metadata": {},
   "source": [
    "## Input and Output Files"
   ]
  },
  {
   "cell_type": "code",
   "execution_count": 2,
   "metadata": {},
   "outputs": [
    {
     "name": "stderr",
     "output_type": "stream",
     "text": [
      "100%|██████████| 1/1 [00:01<00:00,  1.00s/it]"
     ]
    },
    {
     "name": "stdout",
     "output_type": "stream",
     "text": [
      "Number of scenes queried:  67\n"
     ]
    },
    {
     "name": "stderr",
     "output_type": "stream",
     "text": [
      "\n"
     ]
    },
    {
     "data": {
      "text/html": [
       "<div>\n",
       "<style scoped>\n",
       "    .dataframe tbody tr th:only-of-type {\n",
       "        vertical-align: middle;\n",
       "    }\n",
       "\n",
       "    .dataframe tbody tr th {\n",
       "        vertical-align: top;\n",
       "    }\n",
       "\n",
       "    .dataframe thead th {\n",
       "        text-align: right;\n",
       "    }\n",
       "</style>\n",
       "<table border=\"1\" class=\"dataframe\">\n",
       "  <thead>\n",
       "    <tr style=\"text-align: right;\">\n",
       "      <th></th>\n",
       "      <th>product</th>\n",
       "      <th>tile</th>\n",
       "      <th>date</th>\n",
       "      <th>url</th>\n",
       "    </tr>\n",
       "  </thead>\n",
       "  <tbody>\n",
       "    <tr>\n",
       "      <th>0</th>\n",
       "      <td>L30</td>\n",
       "      <td>32UNU</td>\n",
       "      <td>2018-01-03</td>\n",
       "      <td>https://hls.gsfc.nasa.gov/data/v1.4/L30/2018/3...</td>\n",
       "    </tr>\n",
       "    <tr>\n",
       "      <th>1</th>\n",
       "      <td>L30</td>\n",
       "      <td>32UNU</td>\n",
       "      <td>2018-01-10</td>\n",
       "      <td>https://hls.gsfc.nasa.gov/data/v1.4/L30/2018/3...</td>\n",
       "    </tr>\n",
       "  </tbody>\n",
       "</table>\n",
       "</div>"
      ],
      "text/plain": [
       "  product   tile       date                                                url\n",
       "0     L30  32UNU 2018-01-03  https://hls.gsfc.nasa.gov/data/v1.4/L30/2018/3...\n",
       "1     L30  32UNU 2018-01-10  https://hls.gsfc.nasa.gov/data/v1.4/L30/2018/3..."
      ]
     },
     "metadata": {},
     "output_type": "display_data"
    },
    {
     "data": {
      "text/html": [
       "<div>\n",
       "<style scoped>\n",
       "    .dataframe tbody tr th:only-of-type {\n",
       "        vertical-align: middle;\n",
       "    }\n",
       "\n",
       "    .dataframe tbody tr th {\n",
       "        vertical-align: top;\n",
       "    }\n",
       "\n",
       "    .dataframe thead th {\n",
       "        text-align: right;\n",
       "    }\n",
       "</style>\n",
       "<table border=\"1\" class=\"dataframe\">\n",
       "  <thead>\n",
       "    <tr style=\"text-align: right;\">\n",
       "      <th></th>\n",
       "      <th>product</th>\n",
       "      <th>tile</th>\n",
       "      <th>date</th>\n",
       "      <th>url</th>\n",
       "    </tr>\n",
       "  </thead>\n",
       "  <tbody>\n",
       "    <tr>\n",
       "      <th>65</th>\n",
       "      <td>L30</td>\n",
       "      <td>32UNU</td>\n",
       "      <td>2018-12-28</td>\n",
       "      <td>https://hls.gsfc.nasa.gov/data/v1.4/L30/2018/3...</td>\n",
       "    </tr>\n",
       "    <tr>\n",
       "      <th>66</th>\n",
       "      <td>L30</td>\n",
       "      <td>32UNU</td>\n",
       "      <td>2018-12-30</td>\n",
       "      <td>https://hls.gsfc.nasa.gov/data/v1.4/L30/2018/3...</td>\n",
       "    </tr>\n",
       "  </tbody>\n",
       "</table>\n",
       "</div>"
      ],
      "text/plain": [
       "   product   tile       date  \\\n",
       "65     L30  32UNU 2018-12-28   \n",
       "66     L30  32UNU 2018-12-30   \n",
       "\n",
       "                                                  url  \n",
       "65  https://hls.gsfc.nasa.gov/data/v1.4/L30/2018/3...  \n",
       "66  https://hls.gsfc.nasa.gov/data/v1.4/L30/2018/3...  "
      ]
     },
     "metadata": {},
     "output_type": "display_data"
    }
   ],
   "source": [
    "df_datasets = nasa_hls.get_available_datasets(products=products,\n",
    "                                              years=years,\n",
    "                                              tiles=tiles,\n",
    "                                              return_list=False)\n",
    "print(\"Number of scenes queried: \", df_datasets.shape[0])\n",
    "display(df_datasets.head(2))\n",
    "display(df_datasets.tail(2))"
   ]
  },
  {
   "cell_type": "code",
   "execution_count": 3,
   "metadata": {},
   "outputs": [
    {
     "name": "stderr",
     "output_type": "stream",
     "text": [
      "100%|██████████| 67/67 [00:00<00:00, 2990.13it/s]\n"
     ]
    }
   ],
   "source": [
    "nasa_hls.download_batch(df_datasets, dir_raw_hls)"
   ]
  }
 ],
 "metadata": {
  "kernelspec": {
   "display_name": "Python 3",
   "language": "python",
   "name": "python3"
  },
  "language_info": {
   "codemirror_mode": {
    "name": "ipython",
    "version": 3
   },
   "file_extension": ".py",
   "mimetype": "text/x-python",
   "name": "python",
   "nbconvert_exporter": "python",
   "pygments_lexer": "ipython3",
   "version": "3.6.7"
  }
 },
 "nbformat": 4,
 "nbformat_minor": 2
}
