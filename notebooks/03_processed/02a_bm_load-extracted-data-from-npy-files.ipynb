{
 "cells": [
  {
   "cell_type": "markdown",
   "metadata": {},
   "source": [
    "# Load extracted data from npy-files - WIP\n",
    "\n",
    "This is work in progress.\n",
    "\n",
    "Since there are overlapping areas and we do not want to have duplicates in our dataset it makes sense to store the data again with the duplicates removed.\n",
    "To do so we derived the distance to the raster border and the coordinates in the extraction steps.\n",
    "With this information we need a logic to descide from which tile to select a pixel or polygons given that they exist multiple times in overlapping areas.\n",
    "It makes sense to take a sample from the tile where it is further away from the border."
   ]
  },
  {
   "cell_type": "code",
   "execution_count": 189,
   "metadata": {},
   "outputs": [
    {
     "name": "stdout",
     "output_type": "stream",
     "text": [
      "The autoreload extension is already loaded. To reload it, use:\n",
      "  %reload_ext autoreload\n"
     ]
    },
    {
     "data": {
      "text/plain": [
       "['32UNU', '32UPU', '32UQU', '33UUP']"
      ]
     },
     "execution_count": 189,
     "metadata": {},
     "output_type": "execute_result"
    }
   ],
   "source": [
    "%load_ext autoreload\n",
    "%autoreload 2\n",
    "%matplotlib inline\n",
    "\n",
    "# - - - - - - - - - - - - - - - - - - - - \n",
    "# DEFAULT IMPORTS - IN ALL NOTEBOKS\n",
    "from src import configs\n",
    "\n",
    "prjconf = configs.ProjectConfigParser()\n",
    "\n",
    "# - - - - - - - - - - - - - - - - - - - - \n",
    "# NOTEBOOK SPECIFIC IMPORTS\n",
    "import numpy as np\n",
    "from pathlib import Path\n",
    "import pandas as pd\n",
    "import rasterio\n",
    "from tqdm import tqdm\n",
    "\n",
    "from eobox.raster import load_extracted\n",
    "from eobox.raster.extraction import convert_df_to_geodf\n",
    "\n",
    "\n",
    "tilenames = prjconf.get(\"Params\", \"tiles\").split(\" \")\n",
    "tilenames"
   ]
  },
  {
   "cell_type": "markdown",
   "metadata": {},
   "source": [
    "## Inputs\n",
    "\n",
    "### Parameters"
   ]
  },
  {
   "cell_type": "code",
   "execution_count": 198,
   "metadata": {},
   "outputs": [
    {
     "name": "stdout",
     "output_type": "stream",
     "text": [
      "32UNU \n",
      "/home/ben/Devel/Projects/classify-hls/data/processed/L3/extracted/32UNU/clc2018_32UNU_subset_500000\n",
      "32UPU \n",
      "/home/ben/Devel/Projects/classify-hls/data/processed/L3/extracted/32UPU/clc2018_32UPU_subset_500000\n",
      "32UQU \n",
      "/home/ben/Devel/Projects/classify-hls/data/processed/L3/extracted/32UQU/clc2018_32UQU_subset_500000\n",
      "33UUP \n",
      "/home/ben/Devel/Projects/classify-hls/data/processed/L3/extracted/33UUP/clc2018_33UUP_subset_500000\n"
     ]
    }
   ],
   "source": [
    "scoll_id = 1\n",
    "scoll_name = f\"scoll{scoll_id:02d}\"\n",
    "\n",
    "paths_ref_vector = {}\n",
    "dirs_extracted = {}\n",
    "for tile in tilenames: \n",
    "    print(tile, \"\")\n",
    "    paths_footprint = prjconf.get_path(\"Raw\", \"tile_footprint\", tile=tile)\n",
    "    paths_ref_vector[tile] = prjconf.get_path(\"Interim\", \"clc_subset5\", tile=tile)\n",
    "    dirs_extracted[tile] = prjconf.get_path(\"Processed\", \"extracted\", tile=tile) / paths_ref_vector[tile].stem\n",
    "    print(dirs_extracted[tile])"
   ]
  },
  {
   "cell_type": "code",
   "execution_count": 307,
   "metadata": {},
   "outputs": [
    {
     "name": "stdout",
     "output_type": "stream",
     "text": [
      "32UQU\n",
      "/home/ben/Devel/Projects/classify-hls/data/processed/L3/extracted/32UQU/clc2018_32UQU_subset_500000\n",
      "shape df (1574401, 5)\n",
      "shape gdf (1574401, 5)\n",
      "33UUP\n",
      "/home/ben/Devel/Projects/classify-hls/data/processed/L3/extracted/33UUP/clc2018_33UUP_subset_500000\n",
      "shape df (1640453, 5)\n",
      "shape gdf (3214854, 5)\n"
     ]
    },
    {
     "data": {
      "text/html": [
       "<div>\n",
       "<style scoped>\n",
       "    .dataframe tbody tr th:only-of-type {\n",
       "        vertical-align: middle;\n",
       "    }\n",
       "\n",
       "    .dataframe tbody tr th {\n",
       "        vertical-align: top;\n",
       "    }\n",
       "\n",
       "    .dataframe thead th {\n",
       "        text-align: right;\n",
       "    }\n",
       "</style>\n",
       "<table border=\"1\" class=\"dataframe\">\n",
       "  <thead>\n",
       "    <tr style=\"text-align: right;\">\n",
       "      <th></th>\n",
       "      <th>aux_vector_pid</th>\n",
       "      <th>aux_coord_x</th>\n",
       "      <th>aux_coord_y</th>\n",
       "      <th>geometry</th>\n",
       "      <th>tile</th>\n",
       "    </tr>\n",
       "  </thead>\n",
       "  <tbody>\n",
       "    <tr>\n",
       "      <th>0</th>\n",
       "      <td>1</td>\n",
       "      <td>700785</td>\n",
       "      <td>5399985</td>\n",
       "      <td>POINT (11.73001205413447 48.72052780083798)</td>\n",
       "      <td>32UQU</td>\n",
       "    </tr>\n",
       "    <tr>\n",
       "      <th>1</th>\n",
       "      <td>1</td>\n",
       "      <td>700815</td>\n",
       "      <td>5399985</td>\n",
       "      <td>POINT (11.73041947146679 48.72051814003508)</td>\n",
       "      <td>32UQU</td>\n",
       "    </tr>\n",
       "    <tr>\n",
       "      <th>2</th>\n",
       "      <td>1</td>\n",
       "      <td>700845</td>\n",
       "      <td>5399985</td>\n",
       "      <td>POINT (11.73082688858274 48.72050847779305)</td>\n",
       "      <td>32UQU</td>\n",
       "    </tr>\n",
       "    <tr>\n",
       "      <th>3</th>\n",
       "      <td>1</td>\n",
       "      <td>700875</td>\n",
       "      <td>5399985</td>\n",
       "      <td>POINT (11.73123430548229 48.72049881411188)</td>\n",
       "      <td>32UQU</td>\n",
       "    </tr>\n",
       "    <tr>\n",
       "      <th>4</th>\n",
       "      <td>1</td>\n",
       "      <td>700905</td>\n",
       "      <td>5399985</td>\n",
       "      <td>POINT (11.7316417221654 48.72048914899158)</td>\n",
       "      <td>32UQU</td>\n",
       "    </tr>\n",
       "  </tbody>\n",
       "</table>\n",
       "</div>"
      ],
      "text/plain": [
       "   aux_vector_pid  aux_coord_x  aux_coord_y  \\\n",
       "0               1       700785      5399985   \n",
       "1               1       700815      5399985   \n",
       "2               1       700845      5399985   \n",
       "3               1       700875      5399985   \n",
       "4               1       700905      5399985   \n",
       "\n",
       "                                      geometry   tile  \n",
       "0  POINT (11.73001205413447 48.72052780083798)  32UQU  \n",
       "1  POINT (11.73041947146679 48.72051814003508)  32UQU  \n",
       "2  POINT (11.73082688858274 48.72050847779305)  32UQU  \n",
       "3  POINT (11.73123430548229 48.72049881411188)  32UQU  \n",
       "4   POINT (11.7316417221654 48.72048914899158)  32UQU  "
      ]
     },
     "metadata": {},
     "output_type": "display_data"
    },
    {
     "data": {
      "text/html": [
       "<div>\n",
       "<style scoped>\n",
       "    .dataframe tbody tr th:only-of-type {\n",
       "        vertical-align: middle;\n",
       "    }\n",
       "\n",
       "    .dataframe tbody tr th {\n",
       "        vertical-align: top;\n",
       "    }\n",
       "\n",
       "    .dataframe thead th {\n",
       "        text-align: right;\n",
       "    }\n",
       "</style>\n",
       "<table border=\"1\" class=\"dataframe\">\n",
       "  <thead>\n",
       "    <tr style=\"text-align: right;\">\n",
       "      <th></th>\n",
       "      <th>aux_vector_pid</th>\n",
       "      <th>aux_coord_x</th>\n",
       "      <th>aux_coord_y</th>\n",
       "      <th>geometry</th>\n",
       "      <th>tile</th>\n",
       "    </tr>\n",
       "  </thead>\n",
       "  <tbody>\n",
       "    <tr>\n",
       "      <th>1640448</th>\n",
       "      <td>17251</td>\n",
       "      <td>409605</td>\n",
       "      <td>5290215</td>\n",
       "      <td>POINT (13.79379716388919 47.7589629921921)</td>\n",
       "      <td>33UUP</td>\n",
       "    </tr>\n",
       "    <tr>\n",
       "      <th>1640449</th>\n",
       "      <td>17251</td>\n",
       "      <td>409635</td>\n",
       "      <td>5290215</td>\n",
       "      <td>POINT (13.79419738299685 47.75896719811678)</td>\n",
       "      <td>33UUP</td>\n",
       "    </tr>\n",
       "    <tr>\n",
       "      <th>1640450</th>\n",
       "      <td>17251</td>\n",
       "      <td>409665</td>\n",
       "      <td>5290215</td>\n",
       "      <td>POINT (13.79459760219567 47.75897140264617)</td>\n",
       "      <td>33UUP</td>\n",
       "    </tr>\n",
       "    <tr>\n",
       "      <th>1640451</th>\n",
       "      <td>17251</td>\n",
       "      <td>409695</td>\n",
       "      <td>5290215</td>\n",
       "      <td>POINT (13.79499782148565 47.75897560578029)</td>\n",
       "      <td>33UUP</td>\n",
       "    </tr>\n",
       "    <tr>\n",
       "      <th>1640452</th>\n",
       "      <td>17251</td>\n",
       "      <td>409725</td>\n",
       "      <td>5290215</td>\n",
       "      <td>POINT (13.79539804086673 47.75897980751913)</td>\n",
       "      <td>33UUP</td>\n",
       "    </tr>\n",
       "  </tbody>\n",
       "</table>\n",
       "</div>"
      ],
      "text/plain": [
       "         aux_vector_pid  aux_coord_x  aux_coord_y  \\\n",
       "1640448           17251       409605      5290215   \n",
       "1640449           17251       409635      5290215   \n",
       "1640450           17251       409665      5290215   \n",
       "1640451           17251       409695      5290215   \n",
       "1640452           17251       409725      5290215   \n",
       "\n",
       "                                            geometry   tile  \n",
       "1640448   POINT (13.79379716388919 47.7589629921921)  33UUP  \n",
       "1640449  POINT (13.79419738299685 47.75896719811678)  33UUP  \n",
       "1640450  POINT (13.79459760219567 47.75897140264617)  33UUP  \n",
       "1640451  POINT (13.79499782148565 47.75897560578029)  33UUP  \n",
       "1640452  POINT (13.79539804086673 47.75897980751913)  33UUP  "
      ]
     },
     "metadata": {},
     "output_type": "display_data"
    }
   ],
   "source": [
    "target_crs = {'init': 'epsg:4326'}\n",
    "for i, tile in enumerate(tilenames[2::]):\n",
    "    print(tile)\n",
    "    dir_extracted = dirs_extracted[tile]\n",
    "    print(dir_extracted)\n",
    "    df = load_extracted(dir_extracted, \n",
    "                        ['aux_vector_pid.npy', \n",
    "                         'aux_coord_*.npy',\n",
    "                         'aux_raster_dist2rb']).astype(\"int\")\n",
    "    df = convert_df_to_geodf(df, crs=dir_extracted).to_crs(target_crs)\n",
    "    df[\"tile\"] = tile\n",
    "    df.drop([\"aux_coord_x\", \"aux_coord_x\"], axis=1)\n",
    "    print(\"shape df\", df.shape)\n",
    "    if i == 0:\n",
    "        gdf_aux = df\n",
    "        del df\n",
    "    else:\n",
    "        gdf_aux = gdf_aux.append(df)\n",
    "        del df\n",
    "    \n",
    "    print(\"shape gdf\", gdf_aux.shape)\n",
    "display(gdf_aux.head())\n",
    "display(gdf_aux.tail())"
   ]
  }
 ],
 "metadata": {
  "kernelspec": {
   "display_name": "Python 3",
   "language": "python",
   "name": "python3"
  },
  "language_info": {
   "codemirror_mode": {
    "name": "ipython",
    "version": 3
   },
   "file_extension": ".py",
   "mimetype": "text/x-python",
   "name": "python",
   "nbconvert_exporter": "python",
   "pygments_lexer": "ipython3",
   "version": "3.6.7"
  }
 },
 "nbformat": 4,
 "nbformat_minor": 2
}
