{
 "cells": [
  {
   "cell_type": "markdown",
   "metadata": {},
   "source": [
    "# Create clean reference dataset - *.npy* files\n",
    "\n",
    "We have overlapping tiles and thus duplicates in the extracted reference data for those polygons which are located in the overlapping areas.\n",
    "\n",
    "Since we do not want these duplicates and to make our life easier later we store the data such that:\n",
    "\n",
    "* There are no duplicated extractions anymore.\n",
    "\n",
    "* For a polygon that lives in overlapping areas we have to choose from which tile to take the data for the clean reference dataset.\n",
    "  We include the polygon from the tile where the polygon is most far away from the raster border.\n",
    "\n",
    "* We sort the pixels by the polygon id (and then the coordinates) such that pixels of the same polygon appear in one block.\n",
    "  This might be useful later for loading the data from partitioning since often we want to have access to all pixels of a polygon. \n",
    "\n",
    "Note that the reference dataset is specific for a vector dataset and a set of tiles since the data changes if the overlapping areas change. \n",
    "In other words we cannot (necessarily) use the clean reference data of a specific tile created with four tiles for another clean reference dataset with another set of tiles surrounding the specific tile. \n",
    "\n",
    "In this notebook we assume that at least the auxiliary data of our full dataset fits in memory."
   ]
  },
  {
   "cell_type": "markdown",
   "metadata": {},
   "source": [
    "## Load packages, functions and configs"
   ]
  },
  {
   "cell_type": "code",
   "execution_count": 1,
   "metadata": {},
   "outputs": [
    {
     "name": "stdout",
     "output_type": "stream",
     "text": [
      "['32UNU', '32UPU', '32UQU', '33UUP', '32TPT', '32TQT', '33TUN']\n"
     ]
    }
   ],
   "source": [
    "%load_ext autoreload\n",
    "%autoreload 2\n",
    "%matplotlib inline\n",
    "\n",
    "# - - - - - - - - - - - - - - - - - - - - \n",
    "# DEFAULT IMPORTS - IN ALL NOTEBOKS\n",
    "from src import configs\n",
    "\n",
    "prjconf = configs.ProjectConfigParser()\n",
    "\n",
    "# - - - - - - - - - - - - - - - - - - - - \n",
    "# NOTEBOOK SPECIFIC IMPORTS\n",
    "import numpy as np\n",
    "from pathlib import Path\n",
    "import pandas as pd\n",
    "import rasterio\n",
    "import shutil\n",
    "from tqdm import tqdm\n",
    "\n",
    "    \n",
    "from eobox.raster.extraction import load_extracted\n",
    "from eobox.raster.extraction import load_extracted_partitions\n",
    "from eobox.raster.extraction import convert_df_to_geodf\n",
    "from eobox.raster.extraction import get_paths_of_extracted\n",
    "\n",
    "tilenames = prjconf.get(\"Params\", \"tiles\").split(\" \")\n",
    "\n",
    "tilenames =['32UNU', '32UPU', '32UQU', '33UUP', '32TPT', '32TQT', '33TUN']\n",
    "\n",
    "print(tilenames)"
   ]
  },
  {
   "cell_type": "code",
   "execution_count": 2,
   "metadata": {},
   "outputs": [
    {
     "name": "stdout",
     "output_type": "stream",
     "text": [
      "ALWAYS USE THESE THREE TOGETHER:\n",
      "id_vectordata  : clc_lte50ha\n",
      "tilenames      : ['32TPT', '32TQT', '32UNU', '32UPU', '32UQU', '33TUN', '33UUP']\n",
      "dir_refset     : /home/ben/Devel/Projects/classify-hls/data/processed/refset01\n"
     ]
    }
   ],
   "source": [
    "refset_id = \"Refset01\"\n",
    "id_vectordata, tilenames = prjconf.get_clean_refset_parameters(refset_id)\n",
    "dir_refset = prjconf.get_path(refset_id, \"rootdir\")\n",
    "\n",
    "print(\"ALWAYS USE THESE THREE TOGETHER:\")\n",
    "print(\"id_vectordata  :\", id_vectordata)\n",
    "print(\"tilenames      :\", tilenames)\n",
    "print(\"dir_refset     :\", dir_refset)"
   ]
  },
  {
   "cell_type": "markdown",
   "metadata": {},
   "source": [
    "## Auxiliary data\n",
    "\n",
    "First we read the auxiliary data of all tiles as GeoDataFrame."
   ]
  },
  {
   "cell_type": "code",
   "execution_count": 3,
   "metadata": {},
   "outputs": [
    {
     "name": "stdout",
     "output_type": "stream",
     "text": [
      "********************************************************************************\n",
      "Loading partition 32TPT\n",
      "- - - - - - - - - - - - - - - - - - - - \n",
      "Shape of partition dataframe: (721929, 10)\n",
      "Converting partition to GeoDataFrame.\n",
      "Reprojecting GeoDataFrame to {'init': 'epsg:4326'}.\n",
      "********************************************************************************\n",
      "Loading partition 32TQT\n",
      "- - - - - - - - - - - - - - - - - - - - \n",
      "Shape of partition dataframe: (621175, 10)\n",
      "Converting partition to GeoDataFrame.\n",
      "Reprojecting GeoDataFrame to {'init': 'epsg:4326'}.\n",
      "********************************************************************************\n",
      "Loading partition 32UNU\n",
      "- - - - - - - - - - - - - - - - - - - - \n",
      "Shape of partition dataframe: (1202365, 10)\n",
      "Converting partition to GeoDataFrame.\n",
      "Reprojecting GeoDataFrame to {'init': 'epsg:4326'}.\n",
      "********************************************************************************\n",
      "Loading partition 32UPU\n",
      "- - - - - - - - - - - - - - - - - - - - \n",
      "Shape of partition dataframe: (1053593, 10)\n",
      "Converting partition to GeoDataFrame.\n",
      "Reprojecting GeoDataFrame to {'init': 'epsg:4326'}.\n",
      "********************************************************************************\n",
      "Loading partition 32UQU\n",
      "- - - - - - - - - - - - - - - - - - - - \n",
      "Shape of partition dataframe: (1055108, 10)\n",
      "Converting partition to GeoDataFrame.\n",
      "Reprojecting GeoDataFrame to {'init': 'epsg:4326'}.\n",
      "********************************************************************************\n",
      "Loading partition 33TUN\n",
      "- - - - - - - - - - - - - - - - - - - - \n",
      "Shape of partition dataframe: (639387, 10)\n",
      "Converting partition to GeoDataFrame.\n",
      "Reprojecting GeoDataFrame to {'init': 'epsg:4326'}.\n",
      "********************************************************************************\n",
      "Loading partition 33UUP\n",
      "- - - - - - - - - - - - - - - - - - - - \n",
      "Shape of partition dataframe: (1032643, 10)\n",
      "Converting partition to GeoDataFrame.\n",
      "Reprojecting GeoDataFrame to {'init': 'epsg:4326'}.\n",
      "********************************************************************************\n",
      "********************************************************************************\n",
      "Shape of concatenated dataframe: (6326200, 12)\n",
      "Class : <class 'geopandas.geodataframe.GeoDataFrame'>\n",
      "CRS   : {'init': 'epsg:4326'}\n",
      "CPU times: user 3min 43s, sys: 2.04 s, total: 3min 45s\n",
      "Wall time: 3min 45s\n"
     ]
    },
    {
     "data": {
      "text/html": [
       "<div>\n",
       "<style scoped>\n",
       "    .dataframe tbody tr th:only-of-type {\n",
       "        vertical-align: middle;\n",
       "    }\n",
       "\n",
       "    .dataframe tbody tr th {\n",
       "        vertical-align: top;\n",
       "    }\n",
       "\n",
       "    .dataframe thead th {\n",
       "        text-align: right;\n",
       "    }\n",
       "</style>\n",
       "<table border=\"1\" class=\"dataframe\">\n",
       "  <thead>\n",
       "    <tr style=\"text-align: right;\">\n",
       "      <th></th>\n",
       "      <th>inner_index</th>\n",
       "      <th>partition</th>\n",
       "      <th>aux_coord_x</th>\n",
       "      <th>aux_coord_y</th>\n",
       "      <th>aux_raster_dist2rb</th>\n",
       "      <th>aux_vector_Area_Ha</th>\n",
       "      <th>aux_vector_cid_l1</th>\n",
       "      <th>aux_vector_cid_l2</th>\n",
       "      <th>aux_vector_cid_l3</th>\n",
       "      <th>aux_vector_dist2pb</th>\n",
       "      <th>aux_vector_pid</th>\n",
       "      <th>geometry</th>\n",
       "    </tr>\n",
       "  </thead>\n",
       "  <tbody>\n",
       "    <tr>\n",
       "      <th>0</th>\n",
       "      <td>0</td>\n",
       "      <td>32TPT</td>\n",
       "      <td>602145.0</td>\n",
       "      <td>5299995.0</td>\n",
       "      <td>1</td>\n",
       "      <td>39.166559</td>\n",
       "      <td>3</td>\n",
       "      <td>31</td>\n",
       "      <td>312</td>\n",
       "      <td>0.0</td>\n",
       "      <td>1063337</td>\n",
       "      <td>POINT (10.36525134387637 47.84517896849272)</td>\n",
       "    </tr>\n",
       "    <tr>\n",
       "      <th>1</th>\n",
       "      <td>1</td>\n",
       "      <td>32TPT</td>\n",
       "      <td>602175.0</td>\n",
       "      <td>5299995.0</td>\n",
       "      <td>1</td>\n",
       "      <td>39.166559</td>\n",
       "      <td>3</td>\n",
       "      <td>31</td>\n",
       "      <td>312</td>\n",
       "      <td>0.0</td>\n",
       "      <td>1063337</td>\n",
       "      <td>POINT (10.36565220062909 47.84517420016061)</td>\n",
       "    </tr>\n",
       "    <tr>\n",
       "      <th>2</th>\n",
       "      <td>2</td>\n",
       "      <td>32TPT</td>\n",
       "      <td>602205.0</td>\n",
       "      <td>5299995.0</td>\n",
       "      <td>1</td>\n",
       "      <td>39.166559</td>\n",
       "      <td>3</td>\n",
       "      <td>31</td>\n",
       "      <td>312</td>\n",
       "      <td>0.0</td>\n",
       "      <td>1063337</td>\n",
       "      <td>POINT (10.36605305727811 47.84516943042927)</td>\n",
       "    </tr>\n",
       "    <tr>\n",
       "      <th>3</th>\n",
       "      <td>3</td>\n",
       "      <td>32TPT</td>\n",
       "      <td>602145.0</td>\n",
       "      <td>5299965.0</td>\n",
       "      <td>2</td>\n",
       "      <td>39.166559</td>\n",
       "      <td>3</td>\n",
       "      <td>31</td>\n",
       "      <td>312</td>\n",
       "      <td>1.0</td>\n",
       "      <td>1063337</td>\n",
       "      <td>POINT (10.36524426160533 47.84490912228324)</td>\n",
       "    </tr>\n",
       "    <tr>\n",
       "      <th>4</th>\n",
       "      <td>4</td>\n",
       "      <td>32TPT</td>\n",
       "      <td>602175.0</td>\n",
       "      <td>5299965.0</td>\n",
       "      <td>2</td>\n",
       "      <td>39.166559</td>\n",
       "      <td>3</td>\n",
       "      <td>31</td>\n",
       "      <td>312</td>\n",
       "      <td>1.0</td>\n",
       "      <td>1063337</td>\n",
       "      <td>POINT (10.36564511628018 47.84490435399596)</td>\n",
       "    </tr>\n",
       "  </tbody>\n",
       "</table>\n",
       "</div>"
      ],
      "text/plain": [
       "   inner_index partition  aux_coord_x  aux_coord_y  aux_raster_dist2rb  \\\n",
       "0            0     32TPT     602145.0    5299995.0                   1   \n",
       "1            1     32TPT     602175.0    5299995.0                   1   \n",
       "2            2     32TPT     602205.0    5299995.0                   1   \n",
       "3            3     32TPT     602145.0    5299965.0                   2   \n",
       "4            4     32TPT     602175.0    5299965.0                   2   \n",
       "\n",
       "   aux_vector_Area_Ha  aux_vector_cid_l1  aux_vector_cid_l2  \\\n",
       "0           39.166559                  3                 31   \n",
       "1           39.166559                  3                 31   \n",
       "2           39.166559                  3                 31   \n",
       "3           39.166559                  3                 31   \n",
       "4           39.166559                  3                 31   \n",
       "\n",
       "   aux_vector_cid_l3  aux_vector_dist2pb  aux_vector_pid  \\\n",
       "0                312                 0.0         1063337   \n",
       "1                312                 0.0         1063337   \n",
       "2                312                 0.0         1063337   \n",
       "3                312                 1.0         1063337   \n",
       "4                312                 1.0         1063337   \n",
       "\n",
       "                                      geometry  \n",
       "0  POINT (10.36525134387637 47.84517896849272)  \n",
       "1  POINT (10.36565220062909 47.84517420016061)  \n",
       "2  POINT (10.36605305727811 47.84516943042927)  \n",
       "3  POINT (10.36524426160533 47.84490912228324)  \n",
       "4  POINT (10.36564511628018 47.84490435399596)  "
      ]
     },
     "execution_count": 3,
     "metadata": {},
     "output_type": "execute_result"
    }
   ],
   "source": [
    "%%time\n",
    "\n",
    "src_dirs_tiles = {tile:prjconf.get_path(\"Processed\", \"extracted\", tile=tile) / \n",
    "                  prjconf.get_path(\"Raw\", id_vectordata, tile=tile).stem for tile in tilenames}\n",
    "\n",
    "df_aux = load_extracted_partitions(src_dirs_tiles, patterns=[\"aux_*.npy\"], \n",
    "                                   to_crs={'init':'epsg:4326'}, verbosity=1)\n",
    "print(\"Class :\", df_aux.__class__)\n",
    "print(\"CRS   :\", df_aux.crs)\n",
    "df_aux.head()"
   ]
  },
  {
   "cell_type": "markdown",
   "metadata": {},
   "source": [
    "Given a polygon appears more often (due to overlapping areas) we want to keep the polygon from the tile where the minimum of the polygon's pixel distancees is highest."
   ]
  },
  {
   "cell_type": "code",
   "execution_count": 4,
   "metadata": {},
   "outputs": [
    {
     "name": "stdout",
     "output_type": "stream",
     "text": [
      "CPU times: user 2.23 s, sys: 48.1 ms, total: 2.28 s\n",
      "Wall time: 2.27 s\n"
     ]
    },
    {
     "data": {
      "text/html": [
       "<div>\n",
       "<style scoped>\n",
       "    .dataframe tbody tr th:only-of-type {\n",
       "        vertical-align: middle;\n",
       "    }\n",
       "\n",
       "    .dataframe tbody tr th {\n",
       "        vertical-align: top;\n",
       "    }\n",
       "\n",
       "    .dataframe thead th {\n",
       "        text-align: right;\n",
       "    }\n",
       "</style>\n",
       "<table border=\"1\" class=\"dataframe\">\n",
       "  <thead>\n",
       "    <tr style=\"text-align: right;\">\n",
       "      <th></th>\n",
       "      <th>inner_index</th>\n",
       "      <th>partition</th>\n",
       "      <th>aux_coord_x</th>\n",
       "      <th>aux_coord_y</th>\n",
       "      <th>aux_raster_dist2rb</th>\n",
       "      <th>aux_vector_Area_Ha</th>\n",
       "      <th>aux_vector_cid_l1</th>\n",
       "      <th>aux_vector_cid_l2</th>\n",
       "      <th>aux_vector_cid_l3</th>\n",
       "      <th>aux_vector_dist2pb</th>\n",
       "      <th>aux_vector_pid</th>\n",
       "      <th>geometry</th>\n",
       "    </tr>\n",
       "  </thead>\n",
       "  <tbody>\n",
       "    <tr>\n",
       "      <th>532008</th>\n",
       "      <td>532008</td>\n",
       "      <td>32TPT</td>\n",
       "      <td>631425.0</td>\n",
       "      <td>5234025.0</td>\n",
       "      <td>1047</td>\n",
       "      <td>43.799402</td>\n",
       "      <td>1</td>\n",
       "      <td>11</td>\n",
       "      <td>111</td>\n",
       "      <td>1.0</td>\n",
       "      <td>1025427</td>\n",
       "      <td>POINT (10.73672002225291 47.24654370007023)</td>\n",
       "    </tr>\n",
       "    <tr>\n",
       "      <th>508140</th>\n",
       "      <td>508140</td>\n",
       "      <td>32TPT</td>\n",
       "      <td>680685.0</td>\n",
       "      <td>5237235.0</td>\n",
       "      <td>970</td>\n",
       "      <td>33.886721</td>\n",
       "      <td>1</td>\n",
       "      <td>11</td>\n",
       "      <td>111</td>\n",
       "      <td>0.0</td>\n",
       "      <td>1025428</td>\n",
       "      <td>POINT (11.38846456114056 47.26369364310834)</td>\n",
       "    </tr>\n",
       "    <tr>\n",
       "      <th>509709</th>\n",
       "      <td>509709</td>\n",
       "      <td>32TPT</td>\n",
       "      <td>682995.0</td>\n",
       "      <td>5236995.0</td>\n",
       "      <td>893</td>\n",
       "      <td>33.123492</td>\n",
       "      <td>1</td>\n",
       "      <td>11</td>\n",
       "      <td>111</td>\n",
       "      <td>0.0</td>\n",
       "      <td>1025429</td>\n",
       "      <td>POINT (11.41887420080261 47.26089565732259)</td>\n",
       "    </tr>\n",
       "    <tr>\n",
       "      <th>504384</th>\n",
       "      <td>504384</td>\n",
       "      <td>32TPT</td>\n",
       "      <td>670155.0</td>\n",
       "      <td>5237805.0</td>\n",
       "      <td>1321</td>\n",
       "      <td>26.620473</td>\n",
       "      <td>1</td>\n",
       "      <td>11</td>\n",
       "      <td>111</td>\n",
       "      <td>0.0</td>\n",
       "      <td>1025431</td>\n",
       "      <td>POINT (11.24959995370229 47.27163471876423)</td>\n",
       "    </tr>\n",
       "    <tr>\n",
       "      <th>495582</th>\n",
       "      <td>495582</td>\n",
       "      <td>32TPT</td>\n",
       "      <td>685755.0</td>\n",
       "      <td>5238975.0</td>\n",
       "      <td>801</td>\n",
       "      <td>26.676132</td>\n",
       "      <td>1</td>\n",
       "      <td>11</td>\n",
       "      <td>111</td>\n",
       "      <td>0.0</td>\n",
       "      <td>1025433</td>\n",
       "      <td>POINT (11.45614626499142 47.27792035697757)</td>\n",
       "    </tr>\n",
       "  </tbody>\n",
       "</table>\n",
       "</div>"
      ],
      "text/plain": [
       "        inner_index partition  aux_coord_x  aux_coord_y  aux_raster_dist2rb  \\\n",
       "532008       532008     32TPT     631425.0    5234025.0                1047   \n",
       "508140       508140     32TPT     680685.0    5237235.0                 970   \n",
       "509709       509709     32TPT     682995.0    5236995.0                 893   \n",
       "504384       504384     32TPT     670155.0    5237805.0                1321   \n",
       "495582       495582     32TPT     685755.0    5238975.0                 801   \n",
       "\n",
       "        aux_vector_Area_Ha  aux_vector_cid_l1  aux_vector_cid_l2  \\\n",
       "532008           43.799402                  1                 11   \n",
       "508140           33.886721                  1                 11   \n",
       "509709           33.123492                  1                 11   \n",
       "504384           26.620473                  1                 11   \n",
       "495582           26.676132                  1                 11   \n",
       "\n",
       "        aux_vector_cid_l3  aux_vector_dist2pb  aux_vector_pid  \\\n",
       "532008                111                 1.0         1025427   \n",
       "508140                111                 0.0         1025428   \n",
       "509709                111                 0.0         1025429   \n",
       "504384                111                 0.0         1025431   \n",
       "495582                111                 0.0         1025433   \n",
       "\n",
       "                                           geometry  \n",
       "532008  POINT (10.73672002225291 47.24654370007023)  \n",
       "508140  POINT (11.38846456114056 47.26369364310834)  \n",
       "509709  POINT (11.41887420080261 47.26089565732259)  \n",
       "504384  POINT (11.24959995370229 47.27163471876423)  \n",
       "495582  POINT (11.45614626499142 47.27792035697757)  "
      ]
     },
     "execution_count": 4,
     "metadata": {},
     "output_type": "execute_result"
    }
   ],
   "source": [
    "%%time\n",
    "\n",
    "df_polys_duplicates = df_aux.loc[df_aux.groupby([\"partition\", \"aux_vector_pid\"])[\"aux_raster_dist2rb\"].idxmin()]\n",
    "df_polys_duplicates.head()"
   ]
  },
  {
   "cell_type": "markdown",
   "metadata": {},
   "source": [
    "Count the frequency of the number of polygon ID duplicates.\n",
    "\n",
    "It makes sense if most of the polygons appear only once and if duplications are higher number of polygons affected is lower."
   ]
  },
  {
   "cell_type": "code",
   "execution_count": 5,
   "metadata": {},
   "outputs": [
    {
     "name": "stdout",
     "output_type": "stream",
     "text": [
      "CPU times: user 2.66 ms, sys: 0 ns, total: 2.66 ms\n",
      "Wall time: 2.41 ms\n"
     ]
    },
    {
     "data": {
      "text/plain": [
       "1    9858\n",
       "2    2880\n",
       "3     131\n",
       "4      77\n",
       "Name: aux_vector_pid, dtype: int64"
      ]
     },
     "execution_count": 5,
     "metadata": {},
     "output_type": "execute_result"
    }
   ],
   "source": [
    "%%time\n",
    "\n",
    "df_polys_duplicates[\"aux_vector_pid\"].value_counts().value_counts()"
   ]
  },
  {
   "cell_type": "markdown",
   "metadata": {},
   "source": [
    "Lets get a unique set of polygon IDs distributed over the tiles.\n",
    "We select the polygon from the tile where the polygon is most far away from the tile border.\n",
    "\n",
    "We already have the closest distance between all pixels of a polygons to the tile border.\n",
    "Now we select the polygon of the tile where this minimum distance is largest."
   ]
  },
  {
   "cell_type": "code",
   "execution_count": 6,
   "metadata": {},
   "outputs": [
    {
     "name": "stdout",
     "output_type": "stream",
     "text": [
      "CPU times: user 16.7 s, sys: 72.1 ms, total: 16.8 s\n",
      "Wall time: 16.8 s\n"
     ]
    },
    {
     "data": {
      "text/plain": [
       "1    12946\n",
       "Name: aux_vector_pid, dtype: int64"
      ]
     },
     "execution_count": 6,
     "metadata": {},
     "output_type": "execute_result"
    }
   ],
   "source": [
    "%%time\n",
    "\n",
    "df_polys_unique = df_polys_duplicates.groupby(\"aux_vector_pid\").apply(lambda x: x.loc[[x[\"aux_raster_dist2rb\"].idxmax()]])\n",
    "df_polys_unique[\"aux_vector_pid\"].value_counts().value_counts()"
   ]
  },
  {
   "cell_type": "markdown",
   "metadata": {},
   "source": [
    "Lets store the point file."
   ]
  },
  {
   "cell_type": "code",
   "execution_count": 7,
   "metadata": {},
   "outputs": [
    {
     "name": "stdout",
     "output_type": "stream",
     "text": [
      "/home/ben/Devel/Projects/classify-hls/data/processed/refset01/unique_polygon_centroids__clc_lte50ha__32TPT-32TQT-32UNU-32UPU-32UQU-33TUN-33UUP.gpkg\n",
      "CPU times: user 5.58 s, sys: 3.97 ms, total: 5.58 s\n",
      "Wall time: 5.59 s\n"
     ]
    }
   ],
   "source": [
    "%%time\n",
    "\n",
    "fname_centroids_unique = prjconf.get_path(refset_id, \"rootdir\") / \\\n",
    "    f\"unique_polygon_centroids__{id_vectordata}__{'-'.join(tilenames)}.gpkg\"\n",
    "fname_centroids_unique.parent.mkdir(exist_ok=True, parents=True)\n",
    "print(fname_centroids_unique)\n",
    "df_polys_unique[\"partition\"] = df_polys_unique[\"partition\"].astype(str)\n",
    "df_polys_unique.to_file(fname_centroids_unique, driver='GPKG')"
   ]
  },
  {
   "cell_type": "markdown",
   "metadata": {},
   "source": [
    "Now we can get the indices per tile such that we do not have any duplicates anymore in the pixels we load."
   ]
  },
  {
   "cell_type": "code",
   "execution_count": 9,
   "metadata": {},
   "outputs": [
    {
     "name": "stdout",
     "output_type": "stream",
     "text": [
      "Number of all / unique pixels: 721929 / 661762.\n",
      "Number of all / unique pixels: 621175 / 393828.\n",
      "Number of all / unique pixels: 1202365 / 1163082.\n",
      "Number of all / unique pixels: 1053593 / 941060.\n",
      "Number of all / unique pixels: 1055108 / 656195.\n",
      "Number of all / unique pixels: 639387 / 474075.\n",
      "Number of all / unique pixels: 1032643 / 735225.\n",
      "CPU times: user 1.92 s, sys: 48.1 ms, total: 1.96 s\n",
      "Wall time: 1.96 s\n"
     ]
    }
   ],
   "source": [
    "%%time\n",
    "\n",
    "indices = {}\n",
    "for tile in tilenames:\n",
    "    df = df_aux[df_aux[\"partition\"] == tile]\n",
    "    df = df.set_index(\"inner_index\")\n",
    "    df_polys_unique_this_tile = df_polys_unique[\"partition\"] == tile\n",
    "    # df = df[df[\"aux_vector_pid\"].isin(df_polys_unique[df_polys_unique_this_tile].aux_vector_pid.values)]\n",
    "    # print(df.shape)\n",
    "    # print(f\"Number of all / unique pixels: {df_aux[df_aux['partition'] == tile].shape[0]} / {len(indices[tile])}.\")\n",
    "    indices[tile] = df[\"aux_vector_pid\"].isin(df_polys_unique[df_polys_unique_this_tile].aux_vector_pid.values)\n",
    "    print(f\"Number of all / unique pixels: {len(indices[tile])} / {indices[tile].sum()}.\")\n",
    "    \n",
    "    # df[\"partition\"] = df[\"partition\"].astype(str)\n",
    "    # df.to_file(\"__df_pixels_32UNU.gpkg\", driver='GPKG')"
   ]
  },
  {
   "cell_type": "markdown",
   "metadata": {},
   "source": [
    "**BUT ...** to makes things easier and get not confused with all the indexing we store the subsets separately.\n",
    "\n",
    "Furthermore, as we see from the first polygon the pixels of one polygon are not necessarily stored in adjacent rows.\n",
    "It somehow makes sense to do so.\n",
    "\n",
    "So lets sort when we anyway store the data again."
   ]
  },
  {
   "cell_type": "code",
   "execution_count": 24,
   "metadata": {},
   "outputs": [
    {
     "name": "stderr",
     "output_type": "stream",
     "text": [
      "100%|██████████| 7/7 [00:06<00:00,  1.07it/s]"
     ]
    },
    {
     "name": "stdout",
     "output_type": "stream",
     "text": [
      "CPU times: user 4.28 s, sys: 1.92 s, total: 6.2 s\n",
      "Wall time: 6.6 s\n"
     ]
    },
    {
     "name": "stderr",
     "output_type": "stream",
     "text": [
      "\n"
     ]
    }
   ],
   "source": [
    "%%time\n",
    "\n",
    "index_next = 0\n",
    "overwrite = False    \n",
    "for tile in tqdm(tilenames, total=len(tilenames)):\n",
    "    # directory and paths of the initially extracted data (with duplicates due to overlap)\n",
    "    dir_extracted = prjconf.get_path(\"Processed\", \"extracted\", tile) / prjconf.get_path(\"Raw\", id_vectordata, tile=tile).stem\n",
    "    paths_extracted = get_paths_of_extracted(dir_extracted)\n",
    "    # directory of the clean refset\n",
    "    dir_extracted_refset = prjconf.get_path(refset_id, \"extracted\", tile)\n",
    "    dir_extracted_refset.mkdir(exist_ok=True, parents=True)\n",
    "    \n",
    "    # index of pixels with keep and the columns we sort by \n",
    "    index = indices[tile]\n",
    "    cols_sort = ['aux_vector_pid', 'aux_coord_y', 'aux_coord_x']\n",
    "    \n",
    "    # load the aux data\n",
    "    df = load_extracted(dir_extracted, [col + \"*.npy\" for col in cols_sort], index=index)\n",
    "    df_sorted = df.sort_values(cols_sort)\n",
    "\n",
    "    # create the global index - sequential numbering without gaps and unique over all tiles\n",
    "    aux_index_global = np.array((range(index_next, index_next+index.sum())))\n",
    "    assert len(aux_index_global) == index.sum()\n",
    "    path_dst = dir_extracted_refset / \"aux_index_global.npy\"\n",
    "    np.save(path_dst, aux_index_global)\n",
    "    # we start with this index in the next tile\n",
    "    index_next = aux_index_global[-1] + 1\n",
    "    \n",
    "    path_dst = dir_extracted_refset / \"aux_tile.npy\"\n",
    "    aux_tile = np.array([tile] * len(aux_index_global))\n",
    "    np.save(path_dst, aux_tile)\n",
    "    \n",
    "    # load and re-save the ordered subsets of all features\n",
    "    for path in paths_extracted:\n",
    "        colname_src = path.stem\n",
    "        path_dst = dir_extracted_refset / path.name  \n",
    "        # formerly when there was still the tile information in the initially extracted npy filename we did:\n",
    "        # path_dst = dir_extracted_refset / colname_src.replace(tile.lower()+'__', '')\n",
    "        # not necessary anymore\n",
    "        if not path_dst.exists() or overwrite:\n",
    "            # in the destination lets get rid of the tile in the filename\n",
    "            # this is disturbing later when we get the data\n",
    "            df_feature = load_extracted(dir_extracted, colname_src + '*.npy', index=index)\n",
    "            df_feature = df_feature.loc[df_sorted.index]\n",
    "            np.save(path_dst, df_feature.iloc[:,0].values)\n",
    "            \n",
    "    tifs = get_paths_of_extracted(dir_extracted, \"*.tif\")\n",
    "    for tif in tifs:\n",
    "        shutil.copy(tif, dir_extracted_refset / tif.name)\n",
    "    \n",
    "    # load_extracted(dir_extracted_refset, \"aux_*.npy\")"
   ]
  },
  {
   "cell_type": "markdown",
   "metadata": {},
   "source": [
    "In case you want to load the auxiliary data of the whole data and save it as a point GeoPackage you can do the following:\n",
    "\n",
    "```python\n",
    "src_dirs_tiles = {tile: prjconf.get_path(refset_id, \"extracted\", tile=tile) for tile in tilenames}\n",
    "\n",
    "df_aux = load_extracted_partitions(src_dirs_tiles, patterns=[\"aux_*.npy\"], \n",
    "                                   to_crs={'init':'epsg:4326'}, verbosity=1)\n",
    "print(\"Class :\", df_aux.__class__)\n",
    "print(\"CRS   :\", df_aux.crs)\n",
    "\n",
    "print(prjconf.get_path(refset_id, \"rootdir\") / \"extracted_aux.gpkg\")\n",
    "df_aux.to_file(prjconf.get_path(refset_id, \"rootdir\") / \"extracted_aux.gpkg\", driver=\"GPKG\")\n",
    "```\n",
    "\n",
    "But this is rather interesting later with some results."
   ]
  },
  {
   "cell_type": "markdown",
   "metadata": {},
   "source": [
    "## AND THEN THE WHOLE WITH DASK\n",
    "\n",
    "**TODO - finalize this...**"
   ]
  },
  {
   "cell_type": "code",
   "execution_count": 12,
   "metadata": {},
   "outputs": [
    {
     "name": "stdout",
     "output_type": "stream",
     "text": [
      "32UNU  - first file\n",
      "32UPU  - first file\n",
      "32UQU  - first file\n",
      "33UUP  - first file\n"
     ]
    },
    {
     "data": {
      "text/html": [
       "<div><strong>Dask DataFrame Structure:</strong></div>\n",
       "<div>\n",
       "<style scoped>\n",
       "    .dataframe tbody tr th:only-of-type {\n",
       "        vertical-align: middle;\n",
       "    }\n",
       "\n",
       "    .dataframe tbody tr th {\n",
       "        vertical-align: top;\n",
       "    }\n",
       "\n",
       "    .dataframe thead th {\n",
       "        text-align: right;\n",
       "    }\n",
       "</style>\n",
       "<table border=\"1\" class=\"dataframe\">\n",
       "  <thead>\n",
       "    <tr style=\"text-align: right;\">\n",
       "      <th></th>\n",
       "      <th>32unu__scoll01__vts4w__2018-05-27__NIR</th>\n",
       "      <th>32unu__scoll01__vts4w__2018-05-27__Red</th>\n",
       "      <th>aux_coord_x</th>\n",
       "      <th>32unu__scoll01__vts4w__2018-04-29__NIR</th>\n",
       "      <th>32unu__scoll01__vts4w__2018-01-07__SWIR2</th>\n",
       "      <th>32unu__scoll01__vts4w__2018-09-16__Red</th>\n",
       "      <th>32unu__scoll01__vts4w__2018-07-22__SWIR2</th>\n",
       "      <th>32unu__scoll01__vts4w__2018-08-19__SWIR2</th>\n",
       "      <th>32unu__scoll01__vts4w__2018-02-04__NIR</th>\n",
       "      <th>32unu__scoll01__vts4w__2018-02-04__SWIR1</th>\n",
       "      <th>aux_vector_cid_l3</th>\n",
       "      <th>32unu__scoll01__vts4w__2018-03-04__SWIR1</th>\n",
       "      <th>32unu__scoll01__vts4w__2018-04-29__SWIR1</th>\n",
       "      <th>32unu__scoll01__vts4w__2018-07-22__Red</th>\n",
       "      <th>32unu__scoll01__vts4w__2018-11-11__SWIR1</th>\n",
       "      <th>32unu__scoll01__vts4w__2018-04-01__SWIR2</th>\n",
       "      <th>32unu__scoll01__vts4w__2018-04-01__NIR</th>\n",
       "      <th>32unu__scoll01__vts4w__2018-10-14__SWIR1</th>\n",
       "      <th>32unu__scoll01__vts4w__2018-05-27__SWIR2</th>\n",
       "      <th>32unu__scoll01__vts4w__2018-08-19__NIR</th>\n",
       "      <th>32unu__scoll01__vts4w__2018-04-29__Red</th>\n",
       "      <th>32unu__scoll01__vts4w__2018-03-04__SWIR2</th>\n",
       "      <th>32unu__scoll01__vts4w__2018-01-07__Red</th>\n",
       "      <th>32unu__scoll01__vts4w__2018-11-11__Red</th>\n",
       "      <th>aux_vector_cid_l1</th>\n",
       "      <th>32unu__scoll01__vts4w__2018-11-11__NIR</th>\n",
       "      <th>32unu__scoll01__vts4w__2018-04-29__SWIR2</th>\n",
       "      <th>32unu__scoll01__vts4w__2018-07-22__NIR</th>\n",
       "      <th>32unu__scoll01__vts4w__2018-09-16__SWIR1</th>\n",
       "      <th>32unu__scoll01__vts4w__2018-08-19__Red</th>\n",
       "      <th>aux_vector_dist2pb</th>\n",
       "      <th>32unu__scoll01__vts4w__2018-11-11__SWIR2</th>\n",
       "      <th>32unu__scoll01__vts4w__2018-07-22__SWIR1</th>\n",
       "      <th>32unu__scoll01__vts4w__2018-06-24__SWIR2</th>\n",
       "      <th>32unu__scoll01__vts4w__2018-03-04__Red</th>\n",
       "      <th>32unu__scoll01__vts4w__2018-05-27__SWIR1</th>\n",
       "      <th>aux_coord_y</th>\n",
       "      <th>32unu__scoll01__vts4w__2018-10-14__NIR</th>\n",
       "      <th>32unu__scoll01__vts4w__2018-12-09__Red</th>\n",
       "      <th>32unu__scoll01__vts4w__2018-01-07__SWIR1</th>\n",
       "      <th>32unu__scoll01__vts4w__2018-03-04__NIR</th>\n",
       "      <th>32unu__scoll01__vts4w__2018-04-01__Red</th>\n",
       "      <th>32unu__scoll01__vts4w__2018-10-14__Red</th>\n",
       "      <th>32unu__scoll01__vts4w__2018-01-07__NIR</th>\n",
       "      <th>32unu__scoll01__vts4w__2018-08-19__SWIR1</th>\n",
       "      <th>32unu__scoll01__vts4w__2018-04-01__SWIR1</th>\n",
       "      <th>32unu__scoll01__vts4w__2018-09-16__NIR</th>\n",
       "      <th>32unu__scoll01__vts4w__2018-10-14__SWIR2</th>\n",
       "      <th>32unu__scoll01__vts4w__2018-06-24__SWIR1</th>\n",
       "      <th>aux_vector_cid_l2</th>\n",
       "      <th>32unu__scoll01__vts4w__2018-12-09__SWIR1</th>\n",
       "      <th>32unu__scoll01__vts4w__2018-12-09__SWIR2</th>\n",
       "      <th>aux_raster_dist2rb</th>\n",
       "      <th>32unu__scoll01__vts4w__2018-02-04__Red</th>\n",
       "      <th>32unu__scoll01__vts4w__2018-02-04__SWIR2</th>\n",
       "      <th>32unu__scoll01__vts4w__2018-06-24__NIR</th>\n",
       "      <th>aux_vector_pid</th>\n",
       "      <th>aux_vector_area</th>\n",
       "      <th>32unu__scoll01__vts4w__2018-12-09__NIR</th>\n",
       "      <th>32unu__scoll01__vts4w__2018-06-24__Red</th>\n",
       "      <th>32unu__scoll01__vts4w__2018-09-16__SWIR2</th>\n",
       "    </tr>\n",
       "    <tr>\n",
       "      <th>npartitions=1</th>\n",
       "      <th></th>\n",
       "      <th></th>\n",
       "      <th></th>\n",
       "      <th></th>\n",
       "      <th></th>\n",
       "      <th></th>\n",
       "      <th></th>\n",
       "      <th></th>\n",
       "      <th></th>\n",
       "      <th></th>\n",
       "      <th></th>\n",
       "      <th></th>\n",
       "      <th></th>\n",
       "      <th></th>\n",
       "      <th></th>\n",
       "      <th></th>\n",
       "      <th></th>\n",
       "      <th></th>\n",
       "      <th></th>\n",
       "      <th></th>\n",
       "      <th></th>\n",
       "      <th></th>\n",
       "      <th></th>\n",
       "      <th></th>\n",
       "      <th></th>\n",
       "      <th></th>\n",
       "      <th></th>\n",
       "      <th></th>\n",
       "      <th></th>\n",
       "      <th></th>\n",
       "      <th></th>\n",
       "      <th></th>\n",
       "      <th></th>\n",
       "      <th></th>\n",
       "      <th></th>\n",
       "      <th></th>\n",
       "      <th></th>\n",
       "      <th></th>\n",
       "      <th></th>\n",
       "      <th></th>\n",
       "      <th></th>\n",
       "      <th></th>\n",
       "      <th></th>\n",
       "      <th></th>\n",
       "      <th></th>\n",
       "      <th></th>\n",
       "      <th></th>\n",
       "      <th></th>\n",
       "      <th></th>\n",
       "      <th></th>\n",
       "      <th></th>\n",
       "      <th></th>\n",
       "      <th></th>\n",
       "      <th></th>\n",
       "      <th></th>\n",
       "      <th></th>\n",
       "      <th></th>\n",
       "      <th></th>\n",
       "      <th></th>\n",
       "      <th></th>\n",
       "      <th></th>\n",
       "    </tr>\n",
       "  </thead>\n",
       "  <tbody>\n",
       "    <tr>\n",
       "      <th></th>\n",
       "      <td>int16</td>\n",
       "      <td>int16</td>\n",
       "      <td>float64</td>\n",
       "      <td>int16</td>\n",
       "      <td>int16</td>\n",
       "      <td>int16</td>\n",
       "      <td>int16</td>\n",
       "      <td>int16</td>\n",
       "      <td>int16</td>\n",
       "      <td>int16</td>\n",
       "      <td>int64</td>\n",
       "      <td>int16</td>\n",
       "      <td>int16</td>\n",
       "      <td>int16</td>\n",
       "      <td>int16</td>\n",
       "      <td>int16</td>\n",
       "      <td>int16</td>\n",
       "      <td>int16</td>\n",
       "      <td>int16</td>\n",
       "      <td>int16</td>\n",
       "      <td>int16</td>\n",
       "      <td>int16</td>\n",
       "      <td>int16</td>\n",
       "      <td>int16</td>\n",
       "      <td>int64</td>\n",
       "      <td>int16</td>\n",
       "      <td>int16</td>\n",
       "      <td>int16</td>\n",
       "      <td>int16</td>\n",
       "      <td>int16</td>\n",
       "      <td>float32</td>\n",
       "      <td>int16</td>\n",
       "      <td>int16</td>\n",
       "      <td>int16</td>\n",
       "      <td>int16</td>\n",
       "      <td>int16</td>\n",
       "      <td>float64</td>\n",
       "      <td>int16</td>\n",
       "      <td>int16</td>\n",
       "      <td>int16</td>\n",
       "      <td>int16</td>\n",
       "      <td>int16</td>\n",
       "      <td>int16</td>\n",
       "      <td>int16</td>\n",
       "      <td>int16</td>\n",
       "      <td>int16</td>\n",
       "      <td>int16</td>\n",
       "      <td>int16</td>\n",
       "      <td>int16</td>\n",
       "      <td>int64</td>\n",
       "      <td>int16</td>\n",
       "      <td>int16</td>\n",
       "      <td>uint16</td>\n",
       "      <td>int16</td>\n",
       "      <td>int16</td>\n",
       "      <td>int16</td>\n",
       "      <td>int64</td>\n",
       "      <td>float64</td>\n",
       "      <td>int16</td>\n",
       "      <td>int16</td>\n",
       "      <td>int16</td>\n",
       "    </tr>\n",
       "    <tr>\n",
       "      <th></th>\n",
       "      <td>...</td>\n",
       "      <td>...</td>\n",
       "      <td>...</td>\n",
       "      <td>...</td>\n",
       "      <td>...</td>\n",
       "      <td>...</td>\n",
       "      <td>...</td>\n",
       "      <td>...</td>\n",
       "      <td>...</td>\n",
       "      <td>...</td>\n",
       "      <td>...</td>\n",
       "      <td>...</td>\n",
       "      <td>...</td>\n",
       "      <td>...</td>\n",
       "      <td>...</td>\n",
       "      <td>...</td>\n",
       "      <td>...</td>\n",
       "      <td>...</td>\n",
       "      <td>...</td>\n",
       "      <td>...</td>\n",
       "      <td>...</td>\n",
       "      <td>...</td>\n",
       "      <td>...</td>\n",
       "      <td>...</td>\n",
       "      <td>...</td>\n",
       "      <td>...</td>\n",
       "      <td>...</td>\n",
       "      <td>...</td>\n",
       "      <td>...</td>\n",
       "      <td>...</td>\n",
       "      <td>...</td>\n",
       "      <td>...</td>\n",
       "      <td>...</td>\n",
       "      <td>...</td>\n",
       "      <td>...</td>\n",
       "      <td>...</td>\n",
       "      <td>...</td>\n",
       "      <td>...</td>\n",
       "      <td>...</td>\n",
       "      <td>...</td>\n",
       "      <td>...</td>\n",
       "      <td>...</td>\n",
       "      <td>...</td>\n",
       "      <td>...</td>\n",
       "      <td>...</td>\n",
       "      <td>...</td>\n",
       "      <td>...</td>\n",
       "      <td>...</td>\n",
       "      <td>...</td>\n",
       "      <td>...</td>\n",
       "      <td>...</td>\n",
       "      <td>...</td>\n",
       "      <td>...</td>\n",
       "      <td>...</td>\n",
       "      <td>...</td>\n",
       "      <td>...</td>\n",
       "      <td>...</td>\n",
       "      <td>...</td>\n",
       "      <td>...</td>\n",
       "      <td>...</td>\n",
       "      <td>...</td>\n",
       "    </tr>\n",
       "  </tbody>\n",
       "</table>\n",
       "</div>\n",
       "<div>Dask Name: from-delayed, 63 tasks</div>"
      ],
      "text/plain": [
       "Dask DataFrame Structure:\n",
       "              32unu__scoll01__vts4w__2018-05-27__NIR 32unu__scoll01__vts4w__2018-05-27__Red aux_coord_x 32unu__scoll01__vts4w__2018-04-29__NIR 32unu__scoll01__vts4w__2018-01-07__SWIR2 32unu__scoll01__vts4w__2018-09-16__Red 32unu__scoll01__vts4w__2018-07-22__SWIR2 32unu__scoll01__vts4w__2018-08-19__SWIR2 32unu__scoll01__vts4w__2018-02-04__NIR 32unu__scoll01__vts4w__2018-02-04__SWIR1 aux_vector_cid_l3 32unu__scoll01__vts4w__2018-03-04__SWIR1 32unu__scoll01__vts4w__2018-04-29__SWIR1 32unu__scoll01__vts4w__2018-07-22__Red 32unu__scoll01__vts4w__2018-11-11__SWIR1 32unu__scoll01__vts4w__2018-04-01__SWIR2 32unu__scoll01__vts4w__2018-04-01__NIR 32unu__scoll01__vts4w__2018-10-14__SWIR1 32unu__scoll01__vts4w__2018-05-27__SWIR2 32unu__scoll01__vts4w__2018-08-19__NIR 32unu__scoll01__vts4w__2018-04-29__Red 32unu__scoll01__vts4w__2018-03-04__SWIR2 32unu__scoll01__vts4w__2018-01-07__Red 32unu__scoll01__vts4w__2018-11-11__Red aux_vector_cid_l1 32unu__scoll01__vts4w__2018-11-11__NIR 32unu__scoll01__vts4w__2018-04-29__SWIR2 32unu__scoll01__vts4w__2018-07-22__NIR 32unu__scoll01__vts4w__2018-09-16__SWIR1 32unu__scoll01__vts4w__2018-08-19__Red aux_vector_dist2pb 32unu__scoll01__vts4w__2018-11-11__SWIR2 32unu__scoll01__vts4w__2018-07-22__SWIR1 32unu__scoll01__vts4w__2018-06-24__SWIR2 32unu__scoll01__vts4w__2018-03-04__Red 32unu__scoll01__vts4w__2018-05-27__SWIR1 aux_coord_y 32unu__scoll01__vts4w__2018-10-14__NIR 32unu__scoll01__vts4w__2018-12-09__Red 32unu__scoll01__vts4w__2018-01-07__SWIR1 32unu__scoll01__vts4w__2018-03-04__NIR 32unu__scoll01__vts4w__2018-04-01__Red 32unu__scoll01__vts4w__2018-10-14__Red 32unu__scoll01__vts4w__2018-01-07__NIR 32unu__scoll01__vts4w__2018-08-19__SWIR1 32unu__scoll01__vts4w__2018-04-01__SWIR1 32unu__scoll01__vts4w__2018-09-16__NIR 32unu__scoll01__vts4w__2018-10-14__SWIR2 32unu__scoll01__vts4w__2018-06-24__SWIR1 aux_vector_cid_l2 32unu__scoll01__vts4w__2018-12-09__SWIR1 32unu__scoll01__vts4w__2018-12-09__SWIR2 aux_raster_dist2rb 32unu__scoll01__vts4w__2018-02-04__Red 32unu__scoll01__vts4w__2018-02-04__SWIR2 32unu__scoll01__vts4w__2018-06-24__NIR aux_vector_pid aux_vector_area 32unu__scoll01__vts4w__2018-12-09__NIR 32unu__scoll01__vts4w__2018-06-24__Red 32unu__scoll01__vts4w__2018-09-16__SWIR2\n",
       "npartitions=1                                                                                                                                                                                                                                                                                                                                                                                                                                                                                                                                                                                                                                                                                                                                                                                                                                                                                                                                                                                                                                                                                                                                                                                                                                                                                                                                                                                                                                                                                                                                                                                                                                                                                                                                                                                                                                                                                                                                                                                                                                                                                                                                                                                                                                                                                                                   \n",
       "                                               int16                                  int16     float64                                  int16                                    int16                                  int16                                    int16                                    int16                                  int16                                    int16             int64                                    int16                                    int16                                  int16                                    int16                                    int16                                  int16                                    int16                                    int16                                  int16                                  int16                                    int16                                  int16                                  int16             int64                                  int16                                    int16                                  int16                                    int16                                  int16            float32                                    int16                                    int16                                    int16                                  int16                                    int16     float64                                  int16                                  int16                                    int16                                  int16                                  int16                                  int16                                  int16                                    int16                                    int16                                  int16                                    int16                                    int16             int64                                    int16                                    int16             uint16                                  int16                                    int16                                  int16          int64         float64                                  int16                                  int16                                    int16\n",
       "                                                 ...                                    ...         ...                                    ...                                      ...                                    ...                                      ...                                      ...                                    ...                                      ...               ...                                      ...                                      ...                                    ...                                      ...                                      ...                                    ...                                      ...                                      ...                                    ...                                    ...                                      ...                                    ...                                    ...               ...                                    ...                                      ...                                    ...                                      ...                                    ...                ...                                      ...                                      ...                                      ...                                    ...                                      ...         ...                                    ...                                    ...                                      ...                                    ...                                    ...                                    ...                                    ...                                      ...                                      ...                                    ...                                      ...                                      ...               ...                                      ...                                      ...                ...                                    ...                                      ...                                    ...            ...             ...                                    ...                                    ...                                      ...\n",
       "Dask Name: from-delayed, 63 tasks"
      ]
     },
     "execution_count": 12,
     "metadata": {},
     "output_type": "execute_result"
    }
   ],
   "source": [
    "import numpy as np\n",
    "import dask.delayed\n",
    "from dask import delayed\n",
    "import dask.dataframe as dd\n",
    "\n",
    "@delayed\n",
    "def _load_column(path, index=None):\n",
    "    \"\"\"Load a single dataframe column given a numpy file path.\"\"\"\n",
    "    if index is None:\n",
    "        arr = np.load(str(path), allow_pickle=True)\n",
    "    else:\n",
    "        arr = np.load(str(path), mmap_mode=\"r\", allow_pickle=True)[index]\n",
    "    df = pd.DataFrame(arr)\n",
    "    df.columns = [path.stem]\n",
    "    return df\n",
    "\n",
    "@delayed\n",
    "def _concat_columns(column_list):\n",
    "    \"\"\"Concatenate single dataframe columns.\"\"\"\n",
    "    return pd.concat(column_list, axis=1)\n",
    "    \n",
    "\n",
    "# @delayed\n",
    "def load_extracted_dask(npy_path_list):\n",
    "    column_list = []\n",
    "    for npy_path in npy_path_list:\n",
    "        column_list.append(_load_column(npy_path))\n",
    "    df = _concat_columns(column_list)\n",
    "    df = dd.from_delayed(df)\n",
    "    return df\n",
    "        # df_data[path.stem] = _load_column(path, index)\n",
    "        #if index is not None:\n",
    "        #    df_data.index = index.index[index]\n",
    "\n",
    "# _load(npy_path, index_29)\n",
    "\n",
    "#df = get_df(npy_path_stack)\n",
    "#df.compute()\n",
    "\n",
    "for i, tile in enumerate(tilenames): \n",
    "    print(tile, \" - first file\")\n",
    "    if i == 0:\n",
    "        ddf = load_extracted_dask(paths_npy[tile])\n",
    "    else:\n",
    "        ddf.append(load_extracted_dask(paths_npy[tile]))\n",
    "ddf"
   ]
  },
  {
   "cell_type": "code",
   "execution_count": 16,
   "metadata": {},
   "outputs": [
    {
     "data": {
      "text/plain": [
       "(1622277, 61)"
      ]
     },
     "execution_count": 16,
     "metadata": {},
     "output_type": "execute_result"
    }
   ],
   "source": [
    "df = ddf.compute()\n",
    "df.shape"
   ]
  },
  {
   "cell_type": "code",
   "execution_count": 24,
   "metadata": {},
   "outputs": [],
   "source": [
    "paths_npy_tile = paths_npy[\"32UNU\"]"
   ]
  },
  {
   "cell_type": "code",
   "execution_count": null,
   "metadata": {},
   "outputs": [],
   "source": [
    "import dask"
   ]
  },
  {
   "cell_type": "code",
   "execution_count": null,
   "metadata": {},
   "outputs": [],
   "source": [
    "dask_arrays = []\n",
    "for fn in paths_npy_tile:\n",
    "    f = np.fromfile(str(fn))\n",
    "    array = da.from_array(f, chunks=(1000, 1000))\n",
    "    dask_arrays.append(array)"
   ]
  },
  {
   "cell_type": "markdown",
   "metadata": {},
   "source": [
    "### Files"
   ]
  },
  {
   "cell_type": "code",
   "execution_count": 3,
   "metadata": {},
   "outputs": [
    {
     "name": "stdout",
     "output_type": "stream",
     "text": [
      "/home/ben/Devel/Projects/classify-hls/data/interim/clc/clc2018_32UNU_subset_500000.gpkg\n",
      "/home/ben/Devel/Projects/classify-hls/data/interim/clc/clc2018_32UPU_subset_500000.gpkg\n",
      "/home/ben/Devel/Projects/classify-hls/data/interim/clc/clc2018_32UQU_subset_500000.gpkg\n",
      "/home/ben/Devel/Projects/classify-hls/data/interim/clc/clc2018_33UUP_subset_500000.gpkg\n"
     ]
    }
   ],
   "source": [
    "path_ref_vector_all_tiles = {}\n",
    "for tile in tilenames:\n",
    "    path_ref_vector_all_tiles[tile] = prjconf.get_path(\"Interim\", \"clc_subset5\", tile=tile)\n",
    "    assert path_ref_vector_all_tiles[tile].exists()\n",
    "    print(path_ref_vector_all_tiles[tile])\n",
    "\n",
    "paths_raster_all_tiles = {}\n",
    "for tile in tilenames:\n",
    "    paths_raster_all_tiles[tile] = prjconf.get_paths_features_vts_regular_raster(\n",
    "        scoll_name, tile, variables, idx_virtual, as_dict=False)"
   ]
  },
  {
   "cell_type": "markdown",
   "metadata": {},
   "source": [
    "## EDA"
   ]
  },
  {
   "cell_type": "code",
   "execution_count": 78,
   "metadata": {},
   "outputs": [
    {
     "data": {
      "text/plain": [
       "<matplotlib.axes._subplots.AxesSubplot at 0x7fc8bf514940>"
      ]
     },
     "execution_count": 78,
     "metadata": {},
     "output_type": "execute_result"
    },
    {
     "data": {
      "image/png": "[encoded data removed]",
      "text/plain": [
       "<Figure size 1296x432 with 1 Axes>"
      ]
     },
     "metadata": {
      "needs_background": "light"
     },
     "output_type": "display_data"
    }
   ],
   "source": [
    "# distance to raster border\n",
    "# it makes sense that there are more pixels close to the raster border\n",
    "df_aux.aux_raster_dist2rb.hist(bins=50, figsize=(18, 6))"
   ]
  }
 ],
 "metadata": {
  "kernelspec": {
   "display_name": "Python 3",
   "language": "python",
   "name": "python3"
  },
  "language_info": {
   "codemirror_mode": {
    "name": "ipython",
    "version": 3
   },
   "file_extension": ".py",
   "mimetype": "text/x-python",
   "name": "python",
   "nbconvert_exporter": "python",
   "pygments_lexer": "ipython3",
   "version": "3.6.7"
  }
 },
 "nbformat": 4,
 "nbformat_minor": 4
}
