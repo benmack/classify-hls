{
 "cells": [
  {
   "cell_type": "markdown",
   "metadata": {},
   "source": [
    "# Calculate virtual time series"
   ]
  },
  {
   "cell_type": "code",
   "execution_count": 19,
   "metadata": {},
   "outputs": [
    {
     "name": "stdout",
     "output_type": "stream",
     "text": [
      "The autoreload extension is already loaded. To reload it, use:\n",
      "  %reload_ext autoreload\n"
     ]
    }
   ],
   "source": [
    "%load_ext autoreload\n",
    "%autoreload 2\n",
    "%matplotlib inline\n",
    "\n",
    "# - - - - - - - - - - - - - - - - - - - - \n",
    "# DEFAULT IMPORTS - IN ALL NOTEBOKS\n",
    "from src import configs\n",
    "\n",
    "prjconf = configs.ProjectConfigParser()\n",
    "\n",
    "# - - - - - - - - - - - - - - - - - - - - \n",
    "# NOTEBOOK SPECIFIC IMPORTS\n",
    "import numpy as np\n",
    "from pathlib import Path\n",
    "import pandas as pd\n",
    "import rasterio\n",
    "from tqdm import tqdm\n",
    "\n",
    "from eobox.raster import cube\n",
    "from eobox.raster import gdalutils"
   ]
  },
  {
   "cell_type": "markdown",
   "metadata": {},
   "source": [
    "## Define task"
   ]
  },
  {
   "cell_type": "code",
   "execution_count": 20,
   "metadata": {},
   "outputs": [
    {
     "name": "stdout",
     "output_type": "stream",
     "text": [
      "DatetimeIndex(['2018-01-07', '2018-02-04', '2018-03-04', '2018-04-01',\n",
      "               '2018-04-29', '2018-05-27', '2018-06-24', '2018-07-22',\n",
      "               '2018-08-19', '2018-09-16', '2018-10-14', '2018-11-11',\n",
      "               '2018-12-09'],\n",
      "              dtype='datetime64[ns]', freq='4W-SUN')\n",
      "/home/ben/Devel/Projects/classify-hls/data/processed/L3/raster/T32UNU/scoll01\n",
      "/home/ben/Devel/Projects/classify-hls/data/processed/L3/raster/T32UNU/scoll01/t32unu__scoll01__vts4w__{date}__{var}.vrt\n"
     ]
    }
   ],
   "source": [
    "scene_collection_id = 1\n",
    "scene_collection_name = f\"scenecoll{scene_collection_id:02d}__tile-32UNU_year-2018_product-L30_maxcc-75_minsc-0\"\n",
    "variables = [\"Red\", \"NIR\", \"SWIR1\", \"SWIR2\"]\n",
    "qa = \"CLEAR\"\n",
    "qa_valid = [1]\n",
    "chunksize = 2**9\n",
    "\n",
    "scoll_layers = prjconf.get_layer_df_of_scene_collection(scene_collection_name, variables + [qa])\n",
    "scoll_layers.head(6)\n",
    "assert len(scoll_layers[\"tile\"].unique()) == 1\n",
    "assert len(scoll_layers[\"product\"].unique()) == 1  \n",
    "# here L30 & S30 would also make sense but then we need to change the product string below\n",
    "tile = scoll_layers[\"tile\"].unique()[0]\n",
    "product = scoll_layers[\"product\"].unique()[0]\n",
    "\n",
    "\n",
    "idx_virtual = pd.date_range(start='2018-01-01', end=\"2018-12-31\", freq='4W')\n",
    "idx_virtual_strings = [date.strftime('%Y-%m-%d') for date in idx_virtual]\n",
    "idx_virtual\n",
    "\n",
    "dst_dir = prjconf.get_path(\"L3\", \"rasterdir\") / tile / f\"scoll{scene_collection_id:02d}\"\n",
    "dst_pattern = str(dst_dir) + \"/\" + f\"{tile.lower()}__scoll{scene_collection_id:02d}__vts4w__\" + \"{date}__{var}.vrt\"\n",
    "\n",
    "print(idx_virtual)\n",
    "print(dst_dir)\n",
    "print(dst_pattern)"
   ]
  },
  {
   "cell_type": "markdown",
   "metadata": {},
   "source": [
    "## Run task"
   ]
  },
  {
   "cell_type": "code",
   "execution_count": 21,
   "metadata": {},
   "outputs": [],
   "source": [
    "scoll = cube.EOCubeSceneCollection(df_layers=scoll_layers, \n",
    "                                   chunksize=chunksize, \n",
    "                                   variables=variables, \n",
    "                                   qa=qa, \n",
    "                                   qa_valid=qa_valid \n",
    "                                  )"
   ]
  },
  {
   "cell_type": "code",
   "execution_count": 22,
   "metadata": {},
   "outputs": [
    {
     "name": "stderr",
     "output_type": "stream",
     "text": [
      "  0%|          | 0/4 [00:00<?, ?it/s]"
     ]
    },
    {
     "name": "stdout",
     "output_type": "stream",
     "text": [
      "Red: 64 / 64 chunks already processed and skipped.\n",
      "NIR: 64 / 64 chunks already processed and skipped.\n",
      "SWIR1: 64 / 64 chunks already processed and skipped.\n",
      "SWIR2: 64 / 64 chunks already processed and skipped.\n"
     ]
    },
    {
     "name": "stderr",
     "output_type": "stream",
     "text": [
      "\n"
     ]
    }
   ],
   "source": [
    "scoll.create_virtual_time_series(\n",
    "    idx_virtual=idx_virtual,\n",
    "    dst_pattern=dst_pattern,\n",
    "    dtypes=\"int16\",\n",
    "    compress='lzw',\n",
    "    nodata=None,\n",
    "    num_workers=8)\n",
    "# 64it [2:24:38, 25.54s/it]"
   ]
  },
  {
   "cell_type": "markdown",
   "metadata": {},
   "source": [
    "## Create VRTs\n",
    "\n",
    "Create a time series layer stack (VRT) for each variable. "
   ]
  },
  {
   "cell_type": "code",
   "execution_count": 23,
   "metadata": {},
   "outputs": [
    {
     "data": {
      "text/plain": [
       "PosixPath('/home/ben/Devel/Projects/classify-hls/data/processed/L3/raster/VRTs/ts_per_band/T32UNU/scoll01')"
      ]
     },
     "execution_count": 23,
     "metadata": {},
     "output_type": "execute_result"
    }
   ],
   "source": [
    "dst_dir_vsts_stack = prjconf.get_path(\"L3\", \"rasterdir\") / \"VRTs\" / \"ts_per_band\" / tile / f\"scoll{scene_collection_id:02d}\"\n",
    "dst_dir_vsts_stack.mkdir(parents=True, exist_ok=True)\n",
    "dst_dir_vsts_stack"
   ]
  },
  {
   "cell_type": "code",
   "execution_count": 24,
   "metadata": {},
   "outputs": [
    {
     "data": {
      "text/plain": [
       "PosixPath('/home/ben/Devel/Projects/classify-hls/data/processed/L3/raster/T32UNU/scoll01')"
      ]
     },
     "execution_count": 24,
     "metadata": {},
     "output_type": "execute_result"
    }
   ],
   "source": [
    "input_file_list\n",
    "dst_dir"
   ]
  },
  {
   "cell_type": "code",
   "execution_count": 26,
   "metadata": {},
   "outputs": [
    {
     "name": "stdout",
     "output_type": "stream",
     "text": [
      "/home/ben/Devel/Projects/classify-hls/data/processed/L3/raster/VRTs/ts_per_band/T32UNU/scoll01/t32unu__scoll01__vts4w__Red.vrt\n",
      "/home/ben/Devel/Projects/classify-hls/data/processed/L3/raster/VRTs/ts_per_band/T32UNU/scoll01/t32unu__scoll01__vts4w__NIR.vrt\n",
      "/home/ben/Devel/Projects/classify-hls/data/processed/L3/raster/VRTs/ts_per_band/T32UNU/scoll01/t32unu__scoll01__vts4w__SWIR1.vrt\n",
      "/home/ben/Devel/Projects/classify-hls/data/processed/L3/raster/VRTs/ts_per_band/T32UNU/scoll01/t32unu__scoll01__vts4w__SWIR2.vrt\n"
     ]
    }
   ],
   "source": [
    "for var in scoll.variables:\n",
    "    input_file_list = list(list(Path(dst_dir).glob(f\"*{var}*.vrt\")))\n",
    "    input_file_list = np.sort(input_file_list)\n",
    "    output_file = Path(dst_dir_vsts_stack) / f\"{tile.lower()}__scoll{scene_collection_id:02d}__vts4w__{var}.vrt\"\n",
    "    print(output_file)\n",
    "    gdalutils.buildvrt(input_file_list, output_file, relative=True, separate=True)"
   ]
  }
 ],
 "metadata": {
  "kernelspec": {
   "display_name": "Python 3",
   "language": "python",
   "name": "python3"
  },
  "language_info": {
   "codemirror_mode": {
    "name": "ipython",
    "version": 3
   },
   "file_extension": ".py",
   "mimetype": "text/x-python",
   "name": "python",
   "nbconvert_exporter": "python",
   "pygments_lexer": "ipython3",
   "version": "3.6.7"
  }
 },
 "nbformat": 4,
 "nbformat_minor": 2
}
