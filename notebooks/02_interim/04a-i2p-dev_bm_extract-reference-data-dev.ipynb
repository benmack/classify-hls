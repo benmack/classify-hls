{
 "cells": [
  {
   "cell_type": "markdown",
   "metadata": {},
   "source": [
    "# Extract reference data - DEV\n",
    "\n",
    "**TODO**: Create a Snakemake task."
   ]
  },
  {
   "cell_type": "code",
   "execution_count": 39,
   "metadata": {},
   "outputs": [
    {
     "name": "stdout",
     "output_type": "stream",
     "text": [
      "The autoreload extension is already loaded. To reload it, use:\n",
      "  %reload_ext autoreload\n"
     ]
    },
    {
     "data": {
      "text/plain": [
       "['32UNU', '32UPU', '32UQU', '33UUP']"
      ]
     },
     "execution_count": 39,
     "metadata": {},
     "output_type": "execute_result"
    }
   ],
   "source": [
    "%load_ext autoreload\n",
    "%autoreload 2\n",
    "%matplotlib inline\n",
    "\n",
    "# - - - - - - - - - - - - - - - - - - - - \n",
    "# DEFAULT IMPORTS - IN ALL NOTEBOKS\n",
    "from src import configs\n",
    "\n",
    "prjconf = configs.ProjectConfigParser()\n",
    "\n",
    "# - - - - - - - - - - - - - - - - - - - - \n",
    "# NOTEBOOK SPECIFIC IMPORTS\n",
    "import numpy as np\n",
    "from pathlib import Path\n",
    "import pandas as pd\n",
    "import rasterio\n",
    "from tqdm import tqdm\n",
    "\n",
    "from eobox.raster import extract\n",
    "from eobox.raster.extraction import add_vector_data_attributes_to_extracted\n",
    "from eobox.raster import gdalutils\n",
    "\n",
    "tilenames = prjconf.get(\"Params\", \"tiles\").split(\" \")\n",
    "tilenames"
   ]
  },
  {
   "cell_type": "markdown",
   "metadata": {},
   "source": [
    "## Inputs\n",
    "\n",
    "### Parameters"
   ]
  },
  {
   "cell_type": "code",
   "execution_count": 40,
   "metadata": {},
   "outputs": [
    {
     "name": "stdout",
     "output_type": "stream",
     "text": [
      "scoll_name  : scoll01\n",
      "variables   : ['Red', 'NIR', 'SWIR1', 'SWIR2']\n",
      "idx_virtual : DatetimeIndex(['2018-01-07', '2018-02-04', '2018-03-04', '2018-04-01',\n",
      "               '2018-04-29', '2018-05-27', '2018-06-24', '2018-07-22',\n",
      "               '2018-08-19', '2018-09-16', '2018-10-14', '2018-11-11',\n",
      "               '2018-12-09'],\n",
      "              dtype='datetime64[ns]', freq='4W-SUN')\n"
     ]
    }
   ],
   "source": [
    "scoll_id = 1\n",
    "scoll_name = f\"scoll{scoll_id:02d}\"\n",
    "\n",
    "variables = [\"Red\", \"NIR\", \"SWIR1\", \"SWIR2\"]\n",
    "idx_virtual = pd.date_range(start='2018-01-01', end=\"2018-12-31\", freq='4W')\n",
    "\n",
    "\n",
    "print(f\"{'scoll_name':12s}: {scoll_name}\")\n",
    "print(f\"{'variables':12s}: {variables}\")\n",
    "print(f\"{'idx_virtual':12s}: {idx_virtual}\")\n"
   ]
  },
  {
   "cell_type": "markdown",
   "metadata": {},
   "source": [
    "### Files"
   ]
  },
  {
   "cell_type": "code",
   "execution_count": 41,
   "metadata": {},
   "outputs": [
    {
     "name": "stdout",
     "output_type": "stream",
     "text": [
      "/home/ben/Devel/Projects/classify-hls/data/interim/clc/clc2018_32UNU_subset_500000.gpkg\n",
      "/home/ben/Devel/Projects/classify-hls/data/interim/clc/clc2018_32UPU_subset_500000.gpkg\n",
      "/home/ben/Devel/Projects/classify-hls/data/interim/clc/clc2018_32UQU_subset_500000.gpkg\n",
      "/home/ben/Devel/Projects/classify-hls/data/interim/clc/clc2018_33UUP_subset_500000.gpkg\n"
     ]
    }
   ],
   "source": [
    "path_ref_vector_all_tiles = {}\n",
    "for tile in tilenames:\n",
    "    path_ref_vector_all_tiles[tile] = prjconf.get_path(\"Interim\", \"clc_subset5\", tile=tile)\n",
    "    assert path_ref_vector_all_tiles[tile].exists()\n",
    "    print(path_ref_vector_all_tiles[tile])\n",
    "\n",
    "paths_raster_all_tiles = {}\n",
    "for tile in tilenames:\n",
    "    paths_raster_all_tiles[tile] = prjconf.get_paths_features_vts_regular_raster(\n",
    "        scoll_name, tile, variables, idx_virtual, as_dict=False)"
   ]
  },
  {
   "cell_type": "markdown",
   "metadata": {},
   "source": [
    "## Run task\n",
    "\n",
    "Distance to raster border (``dist2rb``) to be used in a multi-tile project after extraction, this auxiliar layer togehter with the coordinates helps to decide which pixel to take, given that they have been extracted multiple times in overlapping areas\n",
    "Reasoning: we want the pixels which are most distance from the raster border\n",
    "\n",
    "Create distance to polygon border (``dist2pb``) layer useful for filtering training samples / select purer inner polygon pixels\n"
   ]
  },
  {
   "cell_type": "code",
   "execution_count": 43,
   "metadata": {},
   "outputs": [
    {
     "name": "stdout",
     "output_type": "stream",
     "text": [
      "/home/ben/Devel/Projects/classify-hls/data/processed/L3/extracted/32UNU/clc2018_32UNU_subset_500000\n",
      "Skipping column tile - datatype 'object' not (yet) supported.\n",
      "/home/ben/Devel/Projects/classify-hls/data/processed/L3/extracted/32UPU/clc2018_32UPU_subset_500000\n"
     ]
    },
    {
     "name": "stderr",
     "output_type": "stream",
     "text": [
      "100%|██████████| 10728/10728 [00:00<00:00, 141601.71it/s]\n"
     ]
    },
    {
     "name": "stdout",
     "output_type": "stream",
     "text": [
      "Skipping column tile - datatype 'object' not (yet) supported.\n",
      "/home/ben/Devel/Projects/classify-hls/data/processed/L3/extracted/32UQU/clc2018_32UQU_subset_500000\n"
     ]
    },
    {
     "name": "stderr",
     "output_type": "stream",
     "text": [
      "100%|██████████| 12467/12467 [00:00<00:00, 133770.93it/s]\n"
     ]
    },
    {
     "name": "stdout",
     "output_type": "stream",
     "text": [
      "Skipping column tile - datatype 'object' not (yet) supported.\n",
      "/home/ben/Devel/Projects/classify-hls/data/processed/L3/extracted/33UUP/clc2018_33UUP_subset_500000\n"
     ]
    },
    {
     "name": "stderr",
     "output_type": "stream",
     "text": [
      "100%|██████████| 14260/14260 [00:00<00:00, 152930.01it/s]\n"
     ]
    },
    {
     "name": "stdout",
     "output_type": "stream",
     "text": [
      "Skipping column tile - datatype 'object' not (yet) supported.\n"
     ]
    }
   ],
   "source": [
    "for tile in tilenames: \n",
    "    path_ref_vector = path_ref_vector_all_tiles[tile]\n",
    "    paths_raster = paths_raster_all_tiles[tile]\n",
    "\n",
    "    dir_extracted = prjconf.get_path(\"Processed\", \"extracted\", tile=tile) / path_ref_vector.stem    \n",
    "    print(dir_extracted)\n",
    "    dst_names = [Path(fp).stem for fp in paths_raster]\n",
    "\n",
    "    extract(\n",
    "        src_vector = str(path_ref_vector),\n",
    "        burn_attribute = \"pid\",\n",
    "        src_raster = paths_raster,\n",
    "        dst_names = dst_names,\n",
    "        dst_dir = dir_extracted,\n",
    "        dist2pb = True,\n",
    "        dist2rb = True,\n",
    "        src_raster_template = str(paths_raster[0]),\n",
    "        gdal_dtype = 4,\n",
    "        n_jobs = 6\n",
    "        )\n",
    "    add_vector_data_attributes_to_extracted(\n",
    "        ref_vector=path_ref_vector,\n",
    "        pid='pid',\n",
    "        dir_extracted=dir_extracted,\n",
    "        overwrite=False)"
   ]
  }
 ],
 "metadata": {
  "kernelspec": {
   "display_name": "Python 3",
   "language": "python",
   "name": "python3"
  },
  "language_info": {
   "codemirror_mode": {
    "name": "ipython",
    "version": 3
   },
   "file_extension": ".py",
   "mimetype": "text/x-python",
   "name": "python",
   "nbconvert_exporter": "python",
   "pygments_lexer": "ipython3",
   "version": "3.6.7"
  }
 },
 "nbformat": 4,
 "nbformat_minor": 2
}
