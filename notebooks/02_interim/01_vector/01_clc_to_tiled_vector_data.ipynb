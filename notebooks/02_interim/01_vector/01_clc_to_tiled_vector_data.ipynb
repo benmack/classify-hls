{
 "cells": [
  {
   "cell_type": "markdown",
   "metadata": {},
   "source": [
    "# Convert CLC to tiled vector data set"
   ]
  },
  {
   "cell_type": "code",
   "execution_count": 1,
   "metadata": {},
   "outputs": [],
   "source": [
    "%load_ext autoreload\n",
    "%autoreload 2\n",
    "%matplotlib inline\n",
    "\n",
    "import geopandas as gpd\n",
    "\n",
    "from src import configs"
   ]
  },
  {
   "cell_type": "markdown",
   "metadata": {},
   "source": [
    "## Manually executed steps in QGIS.\n",
    "\n",
    "### Clip\n",
    "\n",
    "QGIS Clip Raster by Mask Layer with 32UNU tile from \n",
    "  \n",
    "INPUT:\n",
    "  \n",
    "*data/raw/CLC/clc2018_clc2018_v2018_20b2_raster100m/clc2018_clc2018_V2018.20b2.tif*\n",
    "  \n",
    "*data/raw/footprints/S2A_OPER_GIP_TILPAR_MPC_\\_20151209T095117_V20150622T000000_21000101T000000_B00*\n",
    "\n",
    "OUTPUT: \n",
    "  \n",
    "*data/interim/CLC/clc2018_clc2018_v2018_20b2_raster100m_32UNU.tif*\n",
    "\n",
    "\n",
    "### Polygonize\n",
    "\n",
    "QGIS Polygonize\n",
    "\n",
    "INPUT:\n",
    "  \n",
    "*data/interim/CLC/clc2018_clc2018_v2018_20b2_raster100m_32UNU.tif*\n",
    "  \n",
    "OUTPUT:\n",
    "  \n",
    "*data/interim/CLC/clc2018_clc2018_v2018_20b2_raster100m_32UNU.shp*\n",
    "\n",
    "``gdal_polygonize.py data/interim/CLC/clc2018_clc2018_v2018_20b2_raster100m_32UNU.tif interim/CLC/clc2018_clc2018_v2018_20b2_raster100m_32UNU.shp -b 1 -f \"ESRI Shapefile\" None DN``\n",
    "\n",
    "### Add unique Polygon IDs\n",
    "\n",
    "QGIS Field Calculator in Attribute > create new field > Output field name: PID, Expression: @row_number\n",
    "\n",
    "### Reproject\n",
    "\n",
    "Reproject to EPSG 32623\n",
    "\n",
    "INPUT:\n",
    "  \n",
    "*data/interim/CLC/clc2018_clc2018_v2018_20b2_raster100m_32UNU.shp*\n",
    "  \n",
    "OUTPUT:\n",
    "  \n",
    "*data/interim/CLC/clc2018_clc2018_v2018_20b2_raster100m_32UNU_epsg32623.shp*\n",
    "\n",
    "### Calculate Area\n",
    "\n",
    "..."
   ]
  },
  {
   "cell_type": "markdown",
   "metadata": {},
   "source": [
    "## Steps executed in this notebook\n",
    "\n",
    "### Get some subsets with small polygons"
   ]
  },
  {
   "cell_type": "code",
   "execution_count": 2,
   "metadata": {},
   "outputs": [
    {
     "data": {
      "text/plain": [
       "PosixPath('/home/ben/Devel/Projects/classify-hls/data/interim/clc/clc2018_clc2018_v2018_20b2_raster100m_32UNU_epsg32623_area200000.shp')"
      ]
     },
     "execution_count": 2,
     "metadata": {},
     "output_type": "execute_result"
    }
   ],
   "source": [
    "prjconf = configs.ProjectConfigParser()\n",
    "path_clc_t32unu = prjconf.get_path(\"Interim\", \"rootdir\") / \"clc\" / \"clc2018_clc2018_v2018_20b2_raster100m_32UNU_epsg32623.shp\"\n",
    "prjconf.get_path(\"Interim\", \"ref20pix\", tile=\"32UNU\")"
   ]
  },
  {
   "cell_type": "code",
   "execution_count": 6,
   "metadata": {},
   "outputs": [
    {
     "data": {
      "image/png": "[encoded data removed]",
      "text/plain": [
       "<Figure size 1296x432 with 1 Axes>"
      ]
     },
     "metadata": {
      "needs_background": "light"
     },
     "output_type": "display_data"
    }
   ],
   "source": [
    "gdf = gpd.read_file(path_clc_t32unu)\n",
    "\n",
    "ax = None\n",
    "for i, area_threshold in enumerate([500000, 400000, 300000, 200000, 100000]):\n",
    "    path_clc_t32unu_subset = prjconf.get_path(\"Interim\", \"rootdir\") / \"clc\" / f\"clc2018_clc2018_v2018_20b2_raster100m_32UNU_epsg32623_area{area_threshold}.shp\"\n",
    "\n",
    "    gdf_sub = gdf.loc[gdf[\"AREA\"] < area_threshold]\n",
    "    if not path_clc_t32unu_subset.exists():\n",
    "        gdf_sub.to_file(path_clc_t32unu_subset)\n",
    "    ax = gdf_sub[\"AREA\"].hist(ax=ax, figsize=(18, 6))"
   ]
  }
 ],
 "metadata": {
  "kernelspec": {
   "display_name": "Python 3",
   "language": "python",
   "name": "python3"
  },
  "language_info": {
   "codemirror_mode": {
    "name": "ipython",
    "version": 3
   },
   "file_extension": ".py",
   "mimetype": "text/x-python",
   "name": "python",
   "nbconvert_exporter": "python",
   "pygments_lexer": "ipython3",
   "version": "3.6.7"
  }
 },
 "nbformat": 4,
 "nbformat_minor": 2
}
