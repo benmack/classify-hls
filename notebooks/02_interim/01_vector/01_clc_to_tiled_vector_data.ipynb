{
 "cells": [
  {
   "cell_type": "markdown",
   "metadata": {},
   "source": [
    "# Convert CLC to tiled vector data set"
   ]
  },
  {
   "cell_type": "code",
   "execution_count": 1,
   "metadata": {},
   "outputs": [],
   "source": [
    "%load_ext autoreload\n",
    "%autoreload 2\n",
    "%matplotlib inline\n",
    "\n",
    "import geopandas as gpd\n",
    "\n",
    "from src import configs"
   ]
  },
  {
   "cell_type": "markdown",
   "metadata": {},
   "source": [
    "## Manually executed steps in QGIS.\n",
    "\n",
    "### Clip\n",
    "\n",
    "QGIS Clip Raster by Mask Layer with 32UNU tile from \n",
    "  \n",
    "INPUT:\n",
    "  \n",
    "*data/raw/CLC/clc2018_clc2018_v2018_20b2_raster100m/clc2018_clc2018_V2018.20b2.tif*\n",
    "  \n",
    "*data/raw/footprints/S2A_OPER_GIP_TILPAR_MPC_\\_20151209T095117_V20150622T000000_21000101T000000_B00*\n",
    "\n",
    "OUTPUT: \n",
    "  \n",
    "*data/interim/CLC/clc2018_clc2018_v2018_20b2_raster100m_32UNU.tif*\n",
    "\n",
    "\n",
    "### Polygonize\n",
    "\n",
    "QGIS Polygonize\n",
    "\n",
    "INPUT:\n",
    "  \n",
    "*data/interim/CLC/clc2018_clc2018_v2018_20b2_raster100m_32UNU.tif*\n",
    "  \n",
    "OUTPUT:\n",
    "  \n",
    "*data/interim/CLC/clc2018_clc2018_v2018_20b2_raster100m_32UNU.shp*\n",
    "\n",
    "``gdal_polygonize.py data/interim/CLC/clc2018_clc2018_v2018_20b2_raster100m_32UNU.tif interim/CLC/clc2018_clc2018_v2018_20b2_raster100m_32UNU.shp -b 1 -f \"ESRI Shapefile\" None DN``\n",
    "\n",
    "### Add unique Polygon IDs\n",
    "\n",
    "QGIS Field Calculator in Attribute > create new field > Output field name: PID, Expression: @row_number\n",
    "\n",
    "### Reproject\n",
    "\n",
    "Reproject to EPSG 32623\n",
    "\n",
    "INPUT:\n",
    "  \n",
    "*data/interim/CLC/clc2018_clc2018_v2018_20b2_raster100m_32UNU.shp*\n",
    "  \n",
    "OUTPUT:\n",
    "  \n",
    "*data/interim/CLC/clc2018_clc2018_v2018_20b2_raster100m_32UNU_epsg32623.shp*\n",
    "\n",
    "### Calculate Area\n",
    "\n",
    "..."
   ]
  },
  {
   "cell_type": "markdown",
   "metadata": {},
   "source": [
    "## Steps executed in this notebook\n",
    "\n",
    "### Get a subset with small polygons"
   ]
  },
  {
   "cell_type": "code",
   "execution_count": 2,
   "metadata": {},
   "outputs": [
    {
     "data": {
      "text/plain": [
       "PosixPath('/home/ben/Devel/Projects/classify-hls/data/interim/clc/clc2018_clc2018_v2018_20b2_raster100m_32UNU_epsg32623_area200000.shp')"
      ]
     },
     "execution_count": 2,
     "metadata": {},
     "output_type": "execute_result"
    }
   ],
   "source": [
    "prjconf = configs.ProjectConfigParser()\n",
    "path_clc_t32unu = prjconf.get_path(\"Interim\", \"rootdir\") / \"clc\" / \"clc2018_clc2018_v2018_20b2_raster100m_32UNU_epsg32623.shp\"\n",
    "prjconf.get_path(\"Interim\", \"ref20pix\", tile=\"32UNU\")"
   ]
  },
  {
   "cell_type": "code",
   "execution_count": 3,
   "metadata": {},
   "outputs": [
    {
     "data": {
      "text/html": [
       "<div>\n",
       "<style scoped>\n",
       "    .dataframe tbody tr th:only-of-type {\n",
       "        vertical-align: middle;\n",
       "    }\n",
       "\n",
       "    .dataframe tbody tr th {\n",
       "        vertical-align: top;\n",
       "    }\n",
       "\n",
       "    .dataframe thead th {\n",
       "        text-align: right;\n",
       "    }\n",
       "</style>\n",
       "<table border=\"1\" class=\"dataframe\">\n",
       "  <thead>\n",
       "    <tr style=\"text-align: right;\">\n",
       "      <th></th>\n",
       "      <th>DN</th>\n",
       "      <th>PID</th>\n",
       "      <th>AREA</th>\n",
       "      <th>geometry</th>\n",
       "    </tr>\n",
       "  </thead>\n",
       "  <tbody>\n",
       "    <tr>\n",
       "      <th>0</th>\n",
       "      <td>311</td>\n",
       "      <td>1</td>\n",
       "      <td>30010</td>\n",
       "      <td>POLYGON ((505428.59115266 5399873.835361329, 5...</td>\n",
       "    </tr>\n",
       "    <tr>\n",
       "      <th>1</th>\n",
       "      <td>313</td>\n",
       "      <td>2</td>\n",
       "      <td>30010</td>\n",
       "      <td>POLYGON ((505528.5244287224 5399875.188641773,...</td>\n",
       "    </tr>\n",
       "    <tr>\n",
       "      <th>2</th>\n",
       "      <td>311</td>\n",
       "      <td>3</td>\n",
       "      <td>10003</td>\n",
       "      <td>POLYGON ((510726.3780630429 5399845.471443336,...</td>\n",
       "    </tr>\n",
       "    <tr>\n",
       "      <th>3</th>\n",
       "      <td>311</td>\n",
       "      <td>4</td>\n",
       "      <td>100034</td>\n",
       "      <td>POLYGON ((499929.6019953457 5399999.31542117, ...</td>\n",
       "    </tr>\n",
       "    <tr>\n",
       "      <th>4</th>\n",
       "      <td>312</td>\n",
       "      <td>5</td>\n",
       "      <td>230072</td>\n",
       "      <td>POLYGON ((504629.1248692207 5399863.006907189,...</td>\n",
       "    </tr>\n",
       "  </tbody>\n",
       "</table>\n",
       "</div>"
      ],
      "text/plain": [
       "    DN  PID    AREA                                           geometry\n",
       "0  311    1   30010  POLYGON ((505428.59115266 5399873.835361329, 5...\n",
       "1  313    2   30010  POLYGON ((505528.5244287224 5399875.188641773,...\n",
       "2  311    3   10003  POLYGON ((510726.3780630429 5399845.471443336,...\n",
       "3  311    4  100034  POLYGON ((499929.6019953457 5399999.31542117, ...\n",
       "4  312    5  230072  POLYGON ((504629.1248692207 5399863.006907189,..."
      ]
     },
     "metadata": {},
     "output_type": "display_data"
    },
    {
     "data": {
      "image/png": "[encoded data removed]",
      "text/plain": [
       "<Figure size 432x288 with 1 Axes>"
      ]
     },
     "metadata": {
      "needs_background": "light"
     },
     "output_type": "display_data"
    }
   ],
   "source": [
    "gdf = gpd.read_file(path_clc_t32unu)\n",
    "\n",
    "area_threshold = 200000\n",
    "path_clc_t32unu_subset = prjconf.get_path(\"Interim\", \"rootdir\") / \"clc\" / f\"clc2018_clc2018_v2018_20b2_raster100m_32UNU_epsg32623_area{area_threshold}.shp\"\n",
    "\n",
    "display(gdf.head())\n",
    "gdf_sub = gdf.loc[gdf[\"AREA\"] < area_threshold]\n",
    "gdf_sub[\"AREA\"].hist()\n",
    "if not path_clc_t32unu_subset.exists():\n",
    "    gdf_sub.to_file(path_clc_t32unu_subset)"
   ]
  }
 ],
 "metadata": {
  "kernelspec": {
   "display_name": "Python 3",
   "language": "python",
   "name": "python3"
  },
  "language_info": {
   "codemirror_mode": {
    "name": "ipython",
    "version": 3
   },
   "file_extension": ".py",
   "mimetype": "text/x-python",
   "name": "python",
   "nbconvert_exporter": "python",
   "pygments_lexer": "ipython3",
   "version": "3.6.7"
  }
 },
 "nbformat": 4,
 "nbformat_minor": 2
}
