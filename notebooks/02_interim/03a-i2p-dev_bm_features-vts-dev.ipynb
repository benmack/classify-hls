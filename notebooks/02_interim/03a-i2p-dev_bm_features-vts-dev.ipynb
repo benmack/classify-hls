{
 "cells": [
  {
   "cell_type": "markdown",
   "metadata": {},
   "source": [
    "# Features - virtual time series - DEV\n",
    "\n",
    "This code processes all variables at once. \n",
    "\n",
    "Advantage: The QA layer has to be loaded only once\n",
    "\n",
    "Disadvantage: Parallelization and check for / skip over esults of existing single bands with Snakemake. \n",
    "\n",
    "**TODO**: Create a Snakemake task."
   ]
  },
  {
   "cell_type": "code",
   "execution_count": 108,
   "metadata": {},
   "outputs": [
    {
     "name": "stdout",
     "output_type": "stream",
     "text": [
      "The autoreload extension is already loaded. To reload it, use:\n",
      "  %reload_ext autoreload\n"
     ]
    },
    {
     "data": {
      "text/plain": [
       "['32UNU', '32UPU', '32UQU', '33UUP']"
      ]
     },
     "execution_count": 108,
     "metadata": {},
     "output_type": "execute_result"
    }
   ],
   "source": [
    "%load_ext autoreload\n",
    "%autoreload 2\n",
    "%matplotlib inline\n",
    "\n",
    "# - - - - - - - - - - - - - - - - - - - - \n",
    "# DEFAULT IMPORTS - IN ALL NOTEBOKS\n",
    "from src import configs\n",
    "\n",
    "prjconf = configs.ProjectConfigParser()\n",
    "\n",
    "# - - - - - - - - - - - - - - - - - - - - \n",
    "# NOTEBOOK SPECIFIC IMPORTS\n",
    "import numpy as np\n",
    "from pathlib import Path\n",
    "import pandas as pd\n",
    "import rasterio\n",
    "from tqdm import tqdm\n",
    "\n",
    "from eobox.raster import cube\n",
    "from eobox.raster import gdalutils\n",
    "\n",
    "tilenames = prjconf.get(\"Params\", \"tiles\").split(\" \")\n",
    "tilenames"
   ]
  },
  {
   "cell_type": "markdown",
   "metadata": {},
   "source": [
    "## Inputs\n",
    "\n",
    "### Parameters for the script"
   ]
  },
  {
   "cell_type": "code",
   "execution_count": 109,
   "metadata": {},
   "outputs": [
    {
     "name": "stdout",
     "output_type": "stream",
     "text": [
      "scoll_name  : scoll01\n",
      "variables   : ['Red', 'NIR', 'SWIR1', 'SWIR2']\n",
      "qa          : CLEAR\n",
      "idx_virtual : DatetimeIndex(['2018-01-07', '2018-02-04', '2018-03-04', '2018-04-01',\n",
      "               '2018-04-29', '2018-05-27', '2018-06-24', '2018-07-22',\n",
      "               '2018-08-19', '2018-09-16', '2018-10-14', '2018-11-11',\n",
      "               '2018-12-09'],\n",
      "              dtype='datetime64[ns]', freq='4W-SUN')\n"
     ]
    }
   ],
   "source": [
    "scoll_id = 1\n",
    "scoll_name = f\"scoll{scoll_id:02d}\"\n",
    "\n",
    "variables = [\"Red\", \"NIR\", \"SWIR1\", \"SWIR2\"]\n",
    "qa = \"CLEAR\"\n",
    "qa_valid = [1]\n",
    "\n",
    "idx_virtual = pd.date_range(start='2018-01-01', end=\"2018-12-31\", freq='4W')\n",
    "\n",
    "\n",
    "print(f\"{'scoll_name':12s}: {scoll_name}\")\n",
    "print(f\"{'variables':12s}: {variables}\")\n",
    "print(f\"{'qa':12s}: {qa}\")\n",
    "print(f\"{'idx_virtual':12s}: {idx_virtual}\")\n"
   ]
  },
  {
   "cell_type": "markdown",
   "metadata": {},
   "source": [
    "### Files\n",
    "\n",
    "In Snakemake the list would be created by wildcard catching the tiles."
   ]
  },
  {
   "cell_type": "code",
   "execution_count": 110,
   "metadata": {},
   "outputs": [],
   "source": [
    "scolls = {tile: (prjconf.get_path(\"Raw\", \"scene_colls\") / tile / f\"df_{scoll_name}.csv\") for tile in tilenames}"
   ]
  },
  {
   "cell_type": "markdown",
   "metadata": {},
   "source": [
    "## Outputs"
   ]
  },
  {
   "cell_type": "code",
   "execution_count": 112,
   "metadata": {},
   "outputs": [
    {
     "name": "stdout",
     "output_type": "stream",
     "text": [
      "First and last file (of 13) of 32UNU Red\n",
      "   /home/ben/Devel/Projects/classify-hls/data/processed/L3/raster/32UNU/scoll01/32unu__scoll01__vts4w__2018-01-07__Red.vrt\n",
      "   /home/ben/Devel/Projects/classify-hls/data/processed/L3/raster/32UNU/scoll01/32unu__scoll01__vts4w__2018-12-09__Red.vrt\n",
      "\n",
      "First and last file (of 13) of 32UNU NIR\n",
      "   /home/ben/Devel/Projects/classify-hls/data/processed/L3/raster/32UNU/scoll01/32unu__scoll01__vts4w__2018-01-07__NIR.vrt\n",
      "   /home/ben/Devel/Projects/classify-hls/data/processed/L3/raster/32UNU/scoll01/32unu__scoll01__vts4w__2018-12-09__NIR.vrt\n",
      "\n",
      "First and last file (of 13) of 32UNU SWIR1\n",
      "   /home/ben/Devel/Projects/classify-hls/data/processed/L3/raster/32UNU/scoll01/32unu__scoll01__vts4w__2018-01-07__SWIR1.vrt\n",
      "   /home/ben/Devel/Projects/classify-hls/data/processed/L3/raster/32UNU/scoll01/32unu__scoll01__vts4w__2018-12-09__SWIR1.vrt\n",
      "\n",
      "First and last file (of 13) of 32UNU SWIR2\n",
      "   /home/ben/Devel/Projects/classify-hls/data/processed/L3/raster/32UNU/scoll01/32unu__scoll01__vts4w__2018-01-07__SWIR2.vrt\n",
      "   /home/ben/Devel/Projects/classify-hls/data/processed/L3/raster/32UNU/scoll01/32unu__scoll01__vts4w__2018-12-09__SWIR2.vrt\n",
      "\n",
      "First and last file (of 13) of 32UPU Red\n",
      "   /home/ben/Devel/Projects/classify-hls/data/processed/L3/raster/32UPU/scoll01/32upu__scoll01__vts4w__2018-01-07__Red.vrt\n",
      "   /home/ben/Devel/Projects/classify-hls/data/processed/L3/raster/32UPU/scoll01/32upu__scoll01__vts4w__2018-12-09__Red.vrt\n",
      "\n",
      "First and last file (of 13) of 32UPU NIR\n",
      "   /home/ben/Devel/Projects/classify-hls/data/processed/L3/raster/32UPU/scoll01/32upu__scoll01__vts4w__2018-01-07__NIR.vrt\n",
      "   /home/ben/Devel/Projects/classify-hls/data/processed/L3/raster/32UPU/scoll01/32upu__scoll01__vts4w__2018-12-09__NIR.vrt\n",
      "\n",
      "First and last file (of 13) of 32UPU SWIR1\n",
      "   /home/ben/Devel/Projects/classify-hls/data/processed/L3/raster/32UPU/scoll01/32upu__scoll01__vts4w__2018-01-07__SWIR1.vrt\n",
      "   /home/ben/Devel/Projects/classify-hls/data/processed/L3/raster/32UPU/scoll01/32upu__scoll01__vts4w__2018-12-09__SWIR1.vrt\n",
      "\n",
      "First and last file (of 13) of 32UPU SWIR2\n",
      "   /home/ben/Devel/Projects/classify-hls/data/processed/L3/raster/32UPU/scoll01/32upu__scoll01__vts4w__2018-01-07__SWIR2.vrt\n",
      "   /home/ben/Devel/Projects/classify-hls/data/processed/L3/raster/32UPU/scoll01/32upu__scoll01__vts4w__2018-12-09__SWIR2.vrt\n",
      "\n",
      "First and last file (of 13) of 32UQU Red\n",
      "   /home/ben/Devel/Projects/classify-hls/data/processed/L3/raster/32UQU/scoll01/32uqu__scoll01__vts4w__2018-01-07__Red.vrt\n",
      "   /home/ben/Devel/Projects/classify-hls/data/processed/L3/raster/32UQU/scoll01/32uqu__scoll01__vts4w__2018-12-09__Red.vrt\n",
      "\n",
      "First and last file (of 13) of 32UQU NIR\n",
      "   /home/ben/Devel/Projects/classify-hls/data/processed/L3/raster/32UQU/scoll01/32uqu__scoll01__vts4w__2018-01-07__NIR.vrt\n",
      "   /home/ben/Devel/Projects/classify-hls/data/processed/L3/raster/32UQU/scoll01/32uqu__scoll01__vts4w__2018-12-09__NIR.vrt\n",
      "\n",
      "First and last file (of 13) of 32UQU SWIR1\n",
      "   /home/ben/Devel/Projects/classify-hls/data/processed/L3/raster/32UQU/scoll01/32uqu__scoll01__vts4w__2018-01-07__SWIR1.vrt\n",
      "   /home/ben/Devel/Projects/classify-hls/data/processed/L3/raster/32UQU/scoll01/32uqu__scoll01__vts4w__2018-12-09__SWIR1.vrt\n",
      "\n",
      "First and last file (of 13) of 32UQU SWIR2\n",
      "   /home/ben/Devel/Projects/classify-hls/data/processed/L3/raster/32UQU/scoll01/32uqu__scoll01__vts4w__2018-01-07__SWIR2.vrt\n",
      "   /home/ben/Devel/Projects/classify-hls/data/processed/L3/raster/32UQU/scoll01/32uqu__scoll01__vts4w__2018-12-09__SWIR2.vrt\n",
      "\n",
      "First and last file (of 13) of 33UUP Red\n",
      "   /home/ben/Devel/Projects/classify-hls/data/processed/L3/raster/33UUP/scoll01/33uup__scoll01__vts4w__2018-01-07__Red.vrt\n",
      "   /home/ben/Devel/Projects/classify-hls/data/processed/L3/raster/33UUP/scoll01/33uup__scoll01__vts4w__2018-12-09__Red.vrt\n",
      "\n",
      "First and last file (of 13) of 33UUP NIR\n",
      "   /home/ben/Devel/Projects/classify-hls/data/processed/L3/raster/33UUP/scoll01/33uup__scoll01__vts4w__2018-01-07__NIR.vrt\n",
      "   /home/ben/Devel/Projects/classify-hls/data/processed/L3/raster/33UUP/scoll01/33uup__scoll01__vts4w__2018-12-09__NIR.vrt\n",
      "\n",
      "First and last file (of 13) of 33UUP SWIR1\n",
      "   /home/ben/Devel/Projects/classify-hls/data/processed/L3/raster/33UUP/scoll01/33uup__scoll01__vts4w__2018-01-07__SWIR1.vrt\n",
      "   /home/ben/Devel/Projects/classify-hls/data/processed/L3/raster/33UUP/scoll01/33uup__scoll01__vts4w__2018-12-09__SWIR1.vrt\n",
      "\n",
      "First and last file (of 13) of 33UUP SWIR2\n",
      "   /home/ben/Devel/Projects/classify-hls/data/processed/L3/raster/33UUP/scoll01/33uup__scoll01__vts4w__2018-01-07__SWIR2.vrt\n",
      "   /home/ben/Devel/Projects/classify-hls/data/processed/L3/raster/33UUP/scoll01/33uup__scoll01__vts4w__2018-12-09__SWIR2.vrt\n",
      "\n"
     ]
    }
   ],
   "source": [
    "dst_paths = {}\n",
    "for tile in tilenames:\n",
    "    dst_paths[tile] = prjconf.get_paths_features_vts_regular_raster(scoll_name, tile, variables, idx_virtual, as_dict=True)\n",
    "    for var in variables:\n",
    "        print(f\"First and last file (of {len(dst_paths[tile][var])}) of {(tile + ' ' + var)}\")\n",
    "        print(\"   \" + dst_paths[tile][var][0])\n",
    "        print(\"   \" + dst_paths[tile][var][-1])\n",
    "        print()"
   ]
  },
  {
   "cell_type": "code",
   "execution_count": 106,
   "metadata": {},
   "outputs": [
    {
     "name": "stdout",
     "output_type": "stream",
     "text": [
      "****************************************************************************************************\n",
      "32UNU\n",
      "/home/ben/Devel/Projects/classify-hls/data/processed/L3/raster/32UNU/scoll01/32unu__scoll01__vts4w__{date}__{var}.vrt\n",
      "Red: 64 / 64 chunks already processed and skipped.\n",
      "NIR: 64 / 64 chunks already processed and skipped.\n"
     ]
    },
    {
     "name": "stderr",
     "output_type": "stream",
     "text": [
      "  0%|          | 0/4 [00:00<?, ?it/s]"
     ]
    },
    {
     "name": "stdout",
     "output_type": "stream",
     "text": [
      "SWIR1: 64 / 64 chunks already processed and skipped.\n",
      "SWIR2: 64 / 64 chunks already processed and skipped.\n",
      "/home/ben/Devel/Projects/classify-hls/data/processed/L3/raster/32UNU/VRTs/ts_per_band/32UNU/scoll01/32unu__scoll01__vts4w__Red.vrt\n",
      "/home/ben/Devel/Projects/classify-hls/data/processed/L3/raster/32UNU/VRTs/ts_per_band/32UNU/scoll01/32unu__scoll01__vts4w__NIR.vrt\n",
      "/home/ben/Devel/Projects/classify-hls/data/processed/L3/raster/32UNU/VRTs/ts_per_band/32UNU/scoll01/32unu__scoll01__vts4w__SWIR1.vrt\n",
      "/home/ben/Devel/Projects/classify-hls/data/processed/L3/raster/32UNU/VRTs/ts_per_band/32UNU/scoll01/32unu__scoll01__vts4w__SWIR2.vrt\n",
      "****************************************************************************************************\n",
      "32UPU\n",
      "/home/ben/Devel/Projects/classify-hls/data/processed/L3/raster/32UPU/scoll01/32upu__scoll01__vts4w__{date}__{var}.vrt\n"
     ]
    },
    {
     "name": "stderr",
     "output_type": "stream",
     "text": [
      "\n",
      "  0%|          | 0/4 [00:00<?, ?it/s]"
     ]
    },
    {
     "name": "stdout",
     "output_type": "stream",
     "text": [
      "Red: 64 / 64 chunks already processed and skipped.\n",
      "NIR: 64 / 64 chunks already processed and skipped.\n",
      "SWIR1: 64 / 64 chunks already processed and skipped.\n",
      "SWIR2: 64 / 64 chunks already processed and skipped.\n",
      "/home/ben/Devel/Projects/classify-hls/data/processed/L3/raster/32UPU/VRTs/ts_per_band/32UPU/scoll01/32upu__scoll01__vts4w__Red.vrt\n",
      "/home/ben/Devel/Projects/classify-hls/data/processed/L3/raster/32UPU/VRTs/ts_per_band/32UPU/scoll01/32upu__scoll01__vts4w__NIR.vrt\n",
      "/home/ben/Devel/Projects/classify-hls/data/processed/L3/raster/32UPU/VRTs/ts_per_band/32UPU/scoll01/32upu__scoll01__vts4w__SWIR1.vrt\n",
      "/home/ben/Devel/Projects/classify-hls/data/processed/L3/raster/32UPU/VRTs/ts_per_band/32UPU/scoll01/32upu__scoll01__vts4w__SWIR2.vrt\n",
      "****************************************************************************************************\n",
      "32UQU\n",
      "/home/ben/Devel/Projects/classify-hls/data/processed/L3/raster/32UQU/scoll01/32uqu__scoll01__vts4w__{date}__{var}.vrt\n"
     ]
    },
    {
     "name": "stderr",
     "output_type": "stream",
     "text": [
      "\n",
      "  0%|          | 0/4 [00:00<?, ?it/s]"
     ]
    },
    {
     "name": "stdout",
     "output_type": "stream",
     "text": [
      "Red: 64 / 64 chunks already processed and skipped.\n",
      "NIR: 64 / 64 chunks already processed and skipped.\n",
      "SWIR1: 64 / 64 chunks already processed and skipped.\n",
      "SWIR2: 64 / 64 chunks already processed and skipped.\n",
      "/home/ben/Devel/Projects/classify-hls/data/processed/L3/raster/32UQU/VRTs/ts_per_band/32UQU/scoll01/32uqu__scoll01__vts4w__Red.vrt\n",
      "/home/ben/Devel/Projects/classify-hls/data/processed/L3/raster/32UQU/VRTs/ts_per_band/32UQU/scoll01/32uqu__scoll01__vts4w__NIR.vrt\n",
      "/home/ben/Devel/Projects/classify-hls/data/processed/L3/raster/32UQU/VRTs/ts_per_band/32UQU/scoll01/32uqu__scoll01__vts4w__SWIR1.vrt\n",
      "/home/ben/Devel/Projects/classify-hls/data/processed/L3/raster/32UQU/VRTs/ts_per_band/32UQU/scoll01/32uqu__scoll01__vts4w__SWIR2.vrt\n",
      "****************************************************************************************************\n",
      "33UUP\n",
      "/home/ben/Devel/Projects/classify-hls/data/processed/L3/raster/33UUP/scoll01/33uup__scoll01__vts4w__{date}__{var}.vrt\n"
     ]
    },
    {
     "name": "stderr",
     "output_type": "stream",
     "text": [
      "\n",
      "  0%|          | 0/4 [00:00<?, ?it/s]"
     ]
    },
    {
     "name": "stdout",
     "output_type": "stream",
     "text": [
      "Red: 64 / 64 chunks already processed and skipped.\n",
      "NIR: 64 / 64 chunks already processed and skipped.\n",
      "SWIR1: 64 / 64 chunks already processed and skipped.\n",
      "SWIR2: 64 / 64 chunks already processed and skipped.\n",
      "/home/ben/Devel/Projects/classify-hls/data/processed/L3/raster/33UUP/VRTs/ts_per_band/33UUP/scoll01/33uup__scoll01__vts4w__Red.vrt\n",
      "/home/ben/Devel/Projects/classify-hls/data/processed/L3/raster/33UUP/VRTs/ts_per_band/33UUP/scoll01/33uup__scoll01__vts4w__NIR.vrt\n",
      "/home/ben/Devel/Projects/classify-hls/data/processed/L3/raster/33UUP/VRTs/ts_per_band/33UUP/scoll01/33uup__scoll01__vts4w__SWIR1.vrt\n",
      "/home/ben/Devel/Projects/classify-hls/data/processed/L3/raster/33UUP/VRTs/ts_per_band/33UUP/scoll01/33uup__scoll01__vts4w__SWIR2.vrt\n"
     ]
    },
    {
     "name": "stderr",
     "output_type": "stream",
     "text": [
      "\n"
     ]
    }
   ],
   "source": [
    "for tile in tilenames:\n",
    "    print(\"*\" * 100)\n",
    "    print(tile)\n",
    "\n",
    "    scoll_layers = prjconf.get_layer_df_of_scene_collection(scoll_name, variables + [qa], tile)\n",
    "    assert len(scoll_layers[\"tile\"].unique()) == 1\n",
    "    assert len(scoll_layers[\"product\"].unique()) == 1  \n",
    "    # here L30 & S30 would also make sense but then we need to change the product string below\n",
    "    # tile = scoll_layers[\"tile\"].unique()[0]\n",
    "    # product = scoll_layers[\"product\"].unique()[0]\n",
    "\n",
    "    dst_pattern = prjconf.get_paths_features_vts_regular_raster(scoll_name, tile, variables, idx_virtual, as_dict=True, return_patter=True)\n",
    "\n",
    "    print(dst_pattern)\n",
    "\n",
    "    ## Run Task\n",
    "\n",
    "    scoll = cube.EOCubeSceneCollection(df_layers=scoll_layers, \n",
    "                                       chunksize=2**9, \n",
    "                                       variables=variables, \n",
    "                                       qa=qa, \n",
    "                                       qa_valid=qa_valid \n",
    "                                      )\n",
    "\n",
    "    scoll.create_virtual_time_series(\n",
    "        idx_virtual=idx_virtual,\n",
    "        dst_pattern=dst_pattern,\n",
    "        dtypes=\"int16\",\n",
    "        compress='lzw',\n",
    "        nodata=None,\n",
    "        num_workers=4)\n",
    "    # 64it [2:24:38, 25.54s/it]\n",
    "\n",
    "\n",
    "    ## Create VRTs\n",
    "    # Create a time series layer stack (VRT) for each variable. \n",
    "\n",
    "    dst_dir = prjconf.get_path(\"Processed\", \"raster\", tile=tile) / scoll_name\n",
    "    dst_dir_vsts_stack = prjconf.get_path(\"Processed\", \"raster\", tile=tile) / \"VRTs\" / \"ts_per_band\" / tile / f\"{scoll_name}\"\n",
    "    dst_dir_vsts_stack.mkdir(parents=True, exist_ok=True)\n",
    "    dst_dir_vsts_stack\n",
    "\n",
    "    for var in scoll.variables:\n",
    "        input_file_list = list(list(Path(dst_dir).glob(f\"*{var}*.vrt\")))\n",
    "        input_file_list = np.sort(input_file_list)\n",
    "        output_file = Path(dst_dir_vsts_stack) / f\"{tile.lower()}__{scoll_name}__vts4w__{var}.vrt\"\n",
    "        print(output_file)\n",
    "        gdalutils.buildvrt(input_file_list, output_file, relative=True, separate=True)"
   ]
  }
 ],
 "metadata": {
  "kernelspec": {
   "display_name": "Python 3",
   "language": "python",
   "name": "python3"
  },
  "language_info": {
   "codemirror_mode": {
    "name": "ipython",
    "version": 3
   },
   "file_extension": ".py",
   "mimetype": "text/x-python",
   "name": "python",
   "nbconvert_exporter": "python",
   "pygments_lexer": "ipython3",
   "version": "3.6.7"
  }
 },
 "nbformat": 4,
 "nbformat_minor": 2
}
