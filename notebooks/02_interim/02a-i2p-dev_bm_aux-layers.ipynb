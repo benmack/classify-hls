{
 "cells": [
  {
   "cell_type": "markdown",
   "metadata": {},
   "source": [
    "# Auxiliary layers - DEV\n",
    "\n",
    "Here we create \n",
    "\n",
    "* a raster that is empty - is this useful ?\n",
    "* a raster with the distance to the raster border - used for selecting pixels in a multi-tile project\n",
    "* a raster with the distance to the polygon border - useful for selecting clean training samples\n",
    "\n",
    "**TODO**: Create a Snakemake task."
   ]
  },
  {
   "cell_type": "code",
   "execution_count": 1,
   "metadata": {},
   "outputs": [
    {
     "data": {
      "text/plain": [
       "['32UNU', '32UPU', '32UQU', '33UUP']"
      ]
     },
     "execution_count": 1,
     "metadata": {},
     "output_type": "execute_result"
    }
   ],
   "source": [
    "%load_ext autoreload\n",
    "%autoreload 2\n",
    "%matplotlib inline\n",
    "\n",
    "# - - - - - - - - - - - - - - - - - - - - \n",
    "# DEFAULT IMPORTS - IN ALL NOTEBOKS\n",
    "from src import configs\n",
    "\n",
    "prjconf = configs.ProjectConfigParser()\n",
    "\n",
    "# - - - - - - - - - - - - - - - - - - - - \n",
    "# NOTEBOOK SPECIFIC IMPORTS\n",
    "import numpy as np\n",
    "from pathlib import Path\n",
    "import pandas as pd\n",
    "import rasterio\n",
    "from tqdm import tqdm\n",
    "\n",
    "from eobox.raster import cube\n",
    "from eobox.raster import gdalutils\n",
    "from eobox.raster.rasterprocessing import create_distance_to_raster_border\n",
    "from eobox.vector import calc_distance_to_border\n",
    "\n",
    "\n",
    "def create_empty_raster(tile, overwrite=False):\n",
    "    \"\"\"Create an empty raster in the *timeless* folder from first *__QA.tif* match in 'Interim' 'hls'.\"\"\"\n",
    "    \n",
    "    path_empty_raster = prjconf.get_path(\"Interim\", \"timeless_empty_raster\", tile=tile)\n",
    "    path_empty_raster.parent.mkdir(exist_ok=True, parents=True)\n",
    "    \n",
    "    if not path_empty_raster.exists() or overwrite:\n",
    "        # get the first QA layer as a raster template. that could be anything\n",
    "        for pth in (prjconf.get_path(\"Interim\", \"hls\") / tile).rglob(\"**/*__QA.tif\"):\n",
    "            path_template_raster = pth\n",
    "            break\n",
    "        # create an empty raster \n",
    "        path_empty_raster.parent.mkdir(exist_ok=True, parents=True)\n",
    "        with rasterio.open(path_template_raster) as src:\n",
    "            meta = src.meta\n",
    "            meta.update(dtype='uint8')\n",
    "            arr = (src.read() * 0).astype('uint8')\n",
    "            with rasterio.open(path_empty_raster, 'w', **meta) as dst:\n",
    "                dst.write(arr)\n",
    "    return path_empty_raster\n",
    "\n",
    "tilenames = prjconf.get(\"Params\", \"tiles\").split(\" \")\n",
    "tilenames\n",
    "\n"
   ]
  },
  {
   "cell_type": "markdown",
   "metadata": {},
   "source": [
    "## Inputs\n",
    "\n",
    "### Parameters"
   ]
  },
  {
   "cell_type": "code",
   "execution_count": 2,
   "metadata": {},
   "outputs": [
    {
     "name": "stdout",
     "output_type": "stream",
     "text": [
      "32UNU\n",
      "/home/ben/Devel/Projects/classify-hls/data/interim/timeless/32UNU/32UNU_empty_raster.tif\n",
      "/home/ben/Devel/Projects/classify-hls/data/interim/timeless/32UNU/32UNU_dist2rb.tif\n",
      "/home/ben/Devel/Projects/classify-hls/data/interim/timeless/32UNU/32UNU_dist2pb_clc2018_32UNU_subset_500000.tif\n",
      "32UPU\n",
      "/home/ben/Devel/Projects/classify-hls/data/interim/timeless/32UPU/32UPU_empty_raster.tif\n",
      "/home/ben/Devel/Projects/classify-hls/data/interim/timeless/32UPU/32UPU_dist2rb.tif\n",
      "/home/ben/Devel/Projects/classify-hls/data/interim/timeless/32UPU/32UPU_dist2pb_clc2018_32UPU_subset_500000.tif\n",
      "32UQU\n",
      "/home/ben/Devel/Projects/classify-hls/data/interim/timeless/32UQU/32UQU_empty_raster.tif\n",
      "/home/ben/Devel/Projects/classify-hls/data/interim/timeless/32UQU/32UQU_dist2rb.tif\n",
      "/home/ben/Devel/Projects/classify-hls/data/interim/timeless/32UQU/32UQU_dist2pb_clc2018_32UQU_subset_500000.tif\n",
      "33UUP\n",
      "/home/ben/Devel/Projects/classify-hls/data/interim/timeless/33UUP/33UUP_empty_raster.tif\n",
      "/home/ben/Devel/Projects/classify-hls/data/interim/timeless/33UUP/33UUP_dist2rb.tif\n",
      "/home/ben/Devel/Projects/classify-hls/data/interim/timeless/33UUP/33UUP_dist2pb_clc2018_33UUP_subset_500000.tif\n"
     ]
    }
   ],
   "source": [
    "path_ref_vector_all_tiles = {}\n",
    "for tile in tilenames:\n",
    "    print(tile)\n",
    "    \n",
    "    path_ref_vector = prjconf.get_path(\"Interim\", \"clc_subset5\", tile=tile)\n",
    "    \n",
    "    # create an empty raster to be used as template\n",
    "    create_empty_raster(tile)\n",
    "    \n",
    "    if False: # NOT USED ANYMORE: THIS IS NOW DONE DURING EXTRACTION !!!\n",
    "        # create distance to raster border to be used in a multi-tile project\n",
    "        # after extraction, this auxiliar layer togehter with the coordinates helps to decide\n",
    "        # which pixel to take, given that they have been extracted multiple times in overlapping areas\n",
    "        # reasoning: we want the pixels which are most distance from the raster border\n",
    "        path_empty_raster = prjconf.get_path(\"Interim\", \"timeless_empty_raster\", tile=tile)\n",
    "        path_dist2rb = prjconf.get_path(\"Interim\", \"timeless_dist2rb\", tile=tile)\n",
    "\n",
    "        create_distance_to_raster_border(src_raster = path_empty_raster, # could be any raster\n",
    "                                         dst_raster = path_dist2rb,\n",
    "                                         maxdist=None, # None means we calculate distances for all pixels\n",
    "                                         overwrite=False)\n",
    "\n",
    "        # create distance to polygon border layer useful for filtering training samples / select purer inner polygon pixels\n",
    "        path_dist2pb = prjconf.get_path(\"Interim\", \"timeless_dist2pb\", tile=tile)\n",
    "        path_dist2pb = str(path_dist2pb).replace(\"VECTORNAME\", path_ref_vector.stem)\n",
    "\n",
    "        calc_distance_to_border(polygons=path_ref_vector,\n",
    "                                template_raster=path_empty_raster,\n",
    "                                dst_raster=path_dist2pb,\n",
    "                                overwrite=False,\n",
    "                                keep_interim_files=False)\n",
    "    \n",
    "    # CREATED FILES\n",
    "    print(path_empty_raster)\n",
    "    print(path_dist2rb)\n",
    "    print(path_dist2pb)"
   ]
  }
 ],
 "metadata": {
  "kernelspec": {
   "display_name": "Python 3",
   "language": "python",
   "name": "python3"
  },
  "language_info": {
   "codemirror_mode": {
    "name": "ipython",
    "version": 3
   },
   "file_extension": ".py",
   "mimetype": "text/x-python",
   "name": "python",
   "nbconvert_exporter": "python",
   "pygments_lexer": "ipython3",
   "version": "3.6.7"
  }
 },
 "nbformat": 4,
 "nbformat_minor": 2
}
