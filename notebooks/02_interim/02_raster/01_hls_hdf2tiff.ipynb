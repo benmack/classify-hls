{
 "cells": [
  {
   "cell_type": "markdown",
   "metadata": {},
   "source": [
    "# Convert HLS from HDF to TIFF"
   ]
  },
  {
   "cell_type": "code",
   "execution_count": 1,
   "metadata": {},
   "outputs": [],
   "source": [
    "%load_ext autoreload\n",
    "%autoreload 2\n",
    "%matplotlib inline\n",
    "\n",
    "# - - - - - - - - - - - - - - - - - - - - \n",
    "# DEFAULT IMPORTS - IN ALL NOTEBOKS\n",
    "from src import configs\n",
    "\n",
    "prjconf = configs.ProjectConfigParser()\n",
    "\n",
    "# - - - - - - - - - - - - - - - - - - - - \n",
    "# NOTEBOOK SPECIFIC IMPORTS\n",
    "import nasa_hls"
   ]
  },
  {
   "cell_type": "markdown",
   "metadata": {},
   "source": [
    "## Landsat"
   ]
  },
  {
   "cell_type": "code",
   "execution_count": 2,
   "metadata": {},
   "outputs": [
    {
     "name": "stderr",
     "output_type": "stream",
     "text": [
      "100%|██████████| 67/67 [00:00<00:00, 2043.92it/s]"
     ]
    },
    {
     "name": "stdout",
     "output_type": "stream",
     "text": [
      "********************************************************************************\n",
      "Input path:\n",
      "  /home/ben/Devel/Projects/classify-hls/data/raw/hls\n",
      "********************************************************************************\n",
      "Output path:\n",
      "  /home/ben/Devel/Projects/classify-hls/data/interim/hls\n",
      "********************************************************************************\n",
      "Number of scenes: 67\n",
      "[PosixPath('/home/ben/Devel/Projects/classify-hls/data/raw/hls/HLS.L30.T32UNU.2018355.v1.4.hdf'), PosixPath('/home/ben/Devel/Projects/classify-hls/data/raw/hls/HLS.L30.T32UNU.2018282.v1.4.hdf')]\n",
      "********************************************************************************\n",
      "First 3 output directories:\n"
     ]
    },
    {
     "name": "stderr",
     "output_type": "stream",
     "text": [
      "\n"
     ]
    },
    {
     "data": {
      "text/plain": [
       "[PosixPath('/home/ben/Devel/Projects/classify-hls/data/interim/hls/HLS.L30.T32UNU.2018355.v1.4'),\n",
       " PosixPath('/home/ben/Devel/Projects/classify-hls/data/interim/hls/HLS.L30.T32UNU.2018282.v1.4'),\n",
       " PosixPath('/home/ben/Devel/Projects/classify-hls/data/interim/hls/HLS.L30.T32UNU.2018188.v1.4')]"
      ]
     },
     "execution_count": 2,
     "metadata": {},
     "output_type": "execute_result"
    }
   ],
   "source": [
    "# - - - - - - - - - - - - - - - - - - - - \n",
    "# INPUT & OUTPUT RESSOURCES\n",
    "# Input\n",
    "dir_raw_hls = prjconf.get_path(\"Raw\", \"hls\")\n",
    "print(\"*\"*80)\n",
    "print(f\"Input path:\\n  {dir_raw_hls}\")\n",
    "\n",
    "# Output\n",
    "dir_interim_hls = prjconf.get_path(\"Interim\", \"hls\")\n",
    "print(\"*\"*80)\n",
    "print(f\"Output path:\\n  {dir_interim_hls}\")\n",
    "\n",
    "# PARAMETERS\n",
    "max_cloud_coverage = 100\n",
    "product = \"L30\"\n",
    "bands = ['Red', 'NIR', 'SWIR1', 'SWIR2', 'QA'] # see nasa_hls.BAND_NAMES\n",
    "\n",
    "paths_hdf = list(dir_raw_hls.glob(f\"*{product}*.hdf\"))\n",
    "print(\"*\"*80)\n",
    "print(\"Number of scenes:\", len(paths_hdf))\n",
    "print(paths_hdf[:2])\n",
    "\n",
    "dirs_layers = nasa_hls.convert_hdf2tiffs_batch(paths_hdf, \n",
    "                                               dstdir=dir_interim_hls, \n",
    "                                               bands=bands, \n",
    "                                               max_cloud_coverage=max_cloud_coverage)\n",
    "print(\"*\"*80)\n",
    "print(\"First 3 output directories:\")\n",
    "dirs_layers[:3]"
   ]
  },
  {
   "cell_type": "markdown",
   "metadata": {},
   "source": [
    "## Sentinel-2\n",
    "\n",
    "..."
   ]
  }
 ],
 "metadata": {
  "kernelspec": {
   "display_name": "Python 3",
   "language": "python",
   "name": "python3"
  },
  "language_info": {
   "codemirror_mode": {
    "name": "ipython",
    "version": 3
   },
   "file_extension": ".py",
   "mimetype": "text/x-python",
   "name": "python",
   "nbconvert_exporter": "python",
   "pygments_lexer": "ipython3",
   "version": "3.6.7"
  }
 },
 "nbformat": 4,
 "nbformat_minor": 2
}
