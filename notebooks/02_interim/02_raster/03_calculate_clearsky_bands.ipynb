{
 "cells": [
  {
   "cell_type": "markdown",
   "metadata": {},
   "source": [
    "# Calculate clear-sky layer"
   ]
  },
  {
   "cell_type": "code",
   "execution_count": 1,
   "metadata": {},
   "outputs": [],
   "source": [
    "%load_ext autoreload\n",
    "%autoreload 2\n",
    "%matplotlib inline\n",
    "\n",
    "# - - - - - - - - - - - - - - - - - - - - \n",
    "# DEFAULT IMPORTS - IN ALL NOTEBOKS\n",
    "from src import configs\n",
    "\n",
    "prjconf = configs.ProjectConfigParser()\n",
    "\n",
    "# - - - - - - - - - - - - - - - - - - - - \n",
    "# NOTEBOOK SPECIFIC IMPORTS\n",
    "import numpy as np\n",
    "from pathlib import Path\n",
    "import pandas as pd\n",
    "import rasterio\n",
    "from tqdm import tqdm\n",
    "import nasa_hls"
   ]
  },
  {
   "cell_type": "markdown",
   "metadata": {},
   "source": [
    "Get scenes for which create the layers."
   ]
  },
  {
   "cell_type": "code",
   "execution_count": 2,
   "metadata": {},
   "outputs": [],
   "source": [
    "# print(prjconf.get_scene_collection_names())\n",
    "\n",
    "scene_collection_name = 'scenecoll_tile-32UNU_year-2018_product-L30_maxcc-75_minsc-0'\n",
    "scene_collection = prjconf.read_scene_collection(scene_collection_name)"
   ]
  },
  {
   "cell_type": "code",
   "execution_count": 3,
   "metadata": {},
   "outputs": [
    {
     "data": {
      "text/html": [
       "<div>\n",
       "<style scoped>\n",
       "    .dataframe tbody tr th:only-of-type {\n",
       "        vertical-align: middle;\n",
       "    }\n",
       "\n",
       "    .dataframe tbody tr th {\n",
       "        vertical-align: top;\n",
       "    }\n",
       "\n",
       "    .dataframe thead th {\n",
       "        text-align: right;\n",
       "    }\n",
       "</style>\n",
       "<table border=\"1\" class=\"dataframe\">\n",
       "  <thead>\n",
       "    <tr style=\"text-align: right;\">\n",
       "      <th></th>\n",
       "      <th>sid</th>\n",
       "      <th>product</th>\n",
       "      <th>tile</th>\n",
       "      <th>date_Yj</th>\n",
       "      <th>date</th>\n",
       "      <th>cloud_cover</th>\n",
       "      <th>spatial_coverage</th>\n",
       "      <th>dir_tiff</th>\n",
       "    </tr>\n",
       "  </thead>\n",
       "  <tbody>\n",
       "    <tr>\n",
       "      <th>0</th>\n",
       "      <td>HLS.L30.T32UNU.2018044.v1.4</td>\n",
       "      <td>L30</td>\n",
       "      <td>T32UNU</td>\n",
       "      <td>2018044</td>\n",
       "      <td>2018-02-13</td>\n",
       "      <td>35.0</td>\n",
       "      <td>28.0</td>\n",
       "      <td>/home/ben/Devel/Projects/classify-hls/data/int...</td>\n",
       "    </tr>\n",
       "    <tr>\n",
       "      <th>1</th>\n",
       "      <td>HLS.L30.T32UNU.2018259.v1.4</td>\n",
       "      <td>L30</td>\n",
       "      <td>T32UNU</td>\n",
       "      <td>2018259</td>\n",
       "      <td>2018-09-16</td>\n",
       "      <td>3.0</td>\n",
       "      <td>100.0</td>\n",
       "      <td>/home/ben/Devel/Projects/classify-hls/data/int...</td>\n",
       "    </tr>\n",
       "    <tr>\n",
       "      <th>2</th>\n",
       "      <td>HLS.L30.T32UNU.2018316.v1.4</td>\n",
       "      <td>L30</td>\n",
       "      <td>T32UNU</td>\n",
       "      <td>2018316</td>\n",
       "      <td>2018-11-12</td>\n",
       "      <td>61.0</td>\n",
       "      <td>28.0</td>\n",
       "      <td>/home/ben/Devel/Projects/classify-hls/data/int...</td>\n",
       "    </tr>\n",
       "    <tr>\n",
       "      <th>3</th>\n",
       "      <td>HLS.L30.T32UNU.2018188.v1.4</td>\n",
       "      <td>L30</td>\n",
       "      <td>T32UNU</td>\n",
       "      <td>2018188</td>\n",
       "      <td>2018-07-07</td>\n",
       "      <td>53.0</td>\n",
       "      <td>26.0</td>\n",
       "      <td>/home/ben/Devel/Projects/classify-hls/data/int...</td>\n",
       "    </tr>\n",
       "    <tr>\n",
       "      <th>4</th>\n",
       "      <td>HLS.L30.T32UNU.2018218.v1.4</td>\n",
       "      <td>L30</td>\n",
       "      <td>T32UNU</td>\n",
       "      <td>2018218</td>\n",
       "      <td>2018-08-06</td>\n",
       "      <td>55.0</td>\n",
       "      <td>39.0</td>\n",
       "      <td>/home/ben/Devel/Projects/classify-hls/data/int...</td>\n",
       "    </tr>\n",
       "  </tbody>\n",
       "</table>\n",
       "</div>"
      ],
      "text/plain": [
       "                           sid product    tile  date_Yj        date  \\\n",
       "0  HLS.L30.T32UNU.2018044.v1.4     L30  T32UNU  2018044  2018-02-13   \n",
       "1  HLS.L30.T32UNU.2018259.v1.4     L30  T32UNU  2018259  2018-09-16   \n",
       "2  HLS.L30.T32UNU.2018316.v1.4     L30  T32UNU  2018316  2018-11-12   \n",
       "3  HLS.L30.T32UNU.2018188.v1.4     L30  T32UNU  2018188  2018-07-07   \n",
       "4  HLS.L30.T32UNU.2018218.v1.4     L30  T32UNU  2018218  2018-08-06   \n",
       "\n",
       "   cloud_cover  spatial_coverage  \\\n",
       "0         35.0              28.0   \n",
       "1          3.0             100.0   \n",
       "2         61.0              28.0   \n",
       "3         53.0              26.0   \n",
       "4         55.0              39.0   \n",
       "\n",
       "                                            dir_tiff  \n",
       "0  /home/ben/Devel/Projects/classify-hls/data/int...  \n",
       "1  /home/ben/Devel/Projects/classify-hls/data/int...  \n",
       "2  /home/ben/Devel/Projects/classify-hls/data/int...  \n",
       "3  /home/ben/Devel/Projects/classify-hls/data/int...  \n",
       "4  /home/ben/Devel/Projects/classify-hls/data/int...  "
      ]
     },
     "execution_count": 3,
     "metadata": {},
     "output_type": "execute_result"
    }
   ],
   "source": [
    "dir_tiffs = prjconf.get_path(\"Interim\", \"hls\")\n",
    "scene_collection[\"dir_tiff\"] = [str(Path(dir_tiffs) / sid) for sid in scene_collection[\"sid\"]]\n",
    "scene_collection.head()"
   ]
  },
  {
   "cell_type": "markdown",
   "metadata": {},
   "source": [
    "## Create clear-sky masks from the QA layers\n",
    "\n",
    "More details on the conversion from QA-layer to clear sky masks can be found in [nasa_hls’s documentation - Create a clear-sky mask from the QA layer](https://benmack.github.io/nasa_hls/build/html/tutorials/Working_with_HLS_datasets_and_nasa_hls.html#Create-a-clear-sky-mask-from-the-QA-layer)."
   ]
  },
  {
   "cell_type": "code",
   "execution_count": 4,
   "metadata": {},
   "outputs": [],
   "source": [
    "# valid ids from the link above\n",
    "valid = [  0,   4,  16,  20,  32,  36,  48,  52,  64,  68,  80,  84,  96,\n",
    "         100, 112, 116, 128, 132, 144, 148, 160, 164, 176, 180, 192, 196,\n",
    "         208, 212, 224, 228, 240, 244]"
   ]
  },
  {
   "cell_type": "code",
   "execution_count": 5,
   "metadata": {},
   "outputs": [
    {
     "name": "stderr",
     "output_type": "stream",
     "text": [
      "100%|██████████| 24/24 [00:04<00:00,  5.27it/s]\n"
     ]
    }
   ],
   "source": [
    "#scene_dirs = list(prjconf.get_path(\"Interim\", \"hls\").glob(\"*L30*32UNU*\"))\n",
    "for i, scenedir in tqdm(enumerate(scene_collection[\"dir_tiff\"].values), total=len(scene_collection)):\n",
    "    qa_path = list(Path(scenedir).rglob(\"*QA*\"))[0]\n",
    "    clear_path = Path(str(qa_path).replace(\"__QA\", \"__CLEAR\"))\n",
    "    clear = nasa_hls.hls_qa_layer_to_mask(qa_path,\n",
    "                                              qa_valid=valid,\n",
    "                                              keep_255=True,\n",
    "                                              mask_path=clear_path,\n",
    "                                              overwrite=False)\n",
    "    assert clear == 0\n",
    "# 100%|██████████| 24/24 [00:04<00:00,  5.27it/s]"
   ]
  }
 ],
 "metadata": {
  "kernelspec": {
   "display_name": "Python 3",
   "language": "python",
   "name": "python3"
  },
  "language_info": {
   "codemirror_mode": {
    "name": "ipython",
    "version": 3
   },
   "file_extension": ".py",
   "mimetype": "text/x-python",
   "name": "python",
   "nbconvert_exporter": "python",
   "pygments_lexer": "ipython3",
   "version": "3.6.7"
  }
 },
 "nbformat": 4,
 "nbformat_minor": 2
}
