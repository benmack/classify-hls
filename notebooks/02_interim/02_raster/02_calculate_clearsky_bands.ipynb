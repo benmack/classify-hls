{
 "cells": [
  {
   "cell_type": "markdown",
   "metadata": {},
   "source": [
    "# Calculate clear-sky layer"
   ]
  },
  {
   "cell_type": "code",
   "execution_count": 105,
   "metadata": {},
   "outputs": [
    {
     "name": "stdout",
     "output_type": "stream",
     "text": [
      "The autoreload extension is already loaded. To reload it, use:\n",
      "  %reload_ext autoreload\n"
     ]
    }
   ],
   "source": [
    "%load_ext autoreload\n",
    "%autoreload 2\n",
    "%matplotlib inline\n",
    "\n",
    "# - - - - - - - - - - - - - - - - - - - - \n",
    "# DEFAULT IMPORTS - IN ALL NOTEBOKS\n",
    "from src import configs\n",
    "\n",
    "prjconf = configs.ProjectConfigParser()\n",
    "\n",
    "# - - - - - - - - - - - - - - - - - - - - \n",
    "# NOTEBOOK SPECIFIC IMPORTS\n",
    "import numpy as np\n",
    "from pathlib import Path\n",
    "import pandas as pd\n",
    "import rasterio\n",
    "\n",
    "import nasa_hls"
   ]
  },
  {
   "cell_type": "markdown",
   "metadata": {},
   "source": [
    "## Understand the QA layer\n",
    "\n",
    "This code block regards pixels as invalid if the QA layer defines them as being any of the following: \n",
    "\n",
    "* cirrus\n",
    "* cloud\n",
    "* adjecent cloud\n",
    "* cloud shadow\n",
    "* snow/ice"
   ]
  },
  {
   "cell_type": "markdown",
   "metadata": {},
   "source": [
    "The example from the User Guide:\n",
    "\n",
    "*Suppose we get a decimal QA value 100, which translates into binary 01100100, indicating that the aerosol level is low (bits 6-7), it is water (bit 5), and adjacent to cloud (bit 2).*\n",
    "\n",
    "This is how we find out which decimal QA values are valid (see also Table 10 [of HLS v1.4 UserGuide](https://hls.gsfc.nasa.gov/wp-content/uploads/2019/01/HLS.v1.4.UserGuide_draft_ver3.1.pdf)):"
   ]
  },
  {
   "cell_type": "code",
   "execution_count": 99,
   "metadata": {},
   "outputs": [
    {
     "name": "stdout",
     "output_type": "stream",
     "text": [
      "01100100\n",
      "False\n"
     ]
    }
   ],
   "source": [
    "i = 100  # decimal QA value\n",
    "binary_str = \"{0:08b}\".format(i)\n",
    "lut_qa.loc[i, \"binary\"] = binary_str\n",
    "if all(np.array(list(binary_str[-5:])) == valid):\n",
    "    lut_qa.loc[i, \"valid\"] = True\n",
    "print(binary_str)\n",
    "print(lut_qa.loc[i, \"valid\"])"
   ]
  },
  {
   "cell_type": "markdown",
   "metadata": {},
   "source": [
    "## Create clear-sky masks\n",
    "\n",
    "Create a look up table for all possible decimal QA values:"
   ]
  },
  {
   "cell_type": "code",
   "execution_count": 100,
   "metadata": {},
   "outputs": [
    {
     "data": {
      "text/html": [
       "<div>\n",
       "<style scoped>\n",
       "    .dataframe tbody tr th:only-of-type {\n",
       "        vertical-align: middle;\n",
       "    }\n",
       "\n",
       "    .dataframe tbody tr th {\n",
       "        vertical-align: top;\n",
       "    }\n",
       "\n",
       "    .dataframe thead th {\n",
       "        text-align: right;\n",
       "    }\n",
       "</style>\n",
       "<table border=\"1\" class=\"dataframe\">\n",
       "  <thead>\n",
       "    <tr style=\"text-align: right;\">\n",
       "      <th></th>\n",
       "      <th>integer</th>\n",
       "      <th>binary</th>\n",
       "      <th>valid</th>\n",
       "    </tr>\n",
       "  </thead>\n",
       "  <tbody>\n",
       "    <tr>\n",
       "      <th>0</th>\n",
       "      <td>0</td>\n",
       "      <td>00000000</td>\n",
       "      <td>True</td>\n",
       "    </tr>\n",
       "    <tr>\n",
       "      <th>32</th>\n",
       "      <td>32</td>\n",
       "      <td>00100000</td>\n",
       "      <td>True</td>\n",
       "    </tr>\n",
       "    <tr>\n",
       "      <th>64</th>\n",
       "      <td>64</td>\n",
       "      <td>01000000</td>\n",
       "      <td>True</td>\n",
       "    </tr>\n",
       "    <tr>\n",
       "      <th>96</th>\n",
       "      <td>96</td>\n",
       "      <td>01100000</td>\n",
       "      <td>True</td>\n",
       "    </tr>\n",
       "    <tr>\n",
       "      <th>128</th>\n",
       "      <td>128</td>\n",
       "      <td>10000000</td>\n",
       "      <td>True</td>\n",
       "    </tr>\n",
       "    <tr>\n",
       "      <th>160</th>\n",
       "      <td>160</td>\n",
       "      <td>10100000</td>\n",
       "      <td>True</td>\n",
       "    </tr>\n",
       "    <tr>\n",
       "      <th>192</th>\n",
       "      <td>192</td>\n",
       "      <td>11000000</td>\n",
       "      <td>True</td>\n",
       "    </tr>\n",
       "    <tr>\n",
       "      <th>224</th>\n",
       "      <td>224</td>\n",
       "      <td>11100000</td>\n",
       "      <td>True</td>\n",
       "    </tr>\n",
       "  </tbody>\n",
       "</table>\n",
       "</div>"
      ],
      "text/plain": [
       "     integer    binary  valid\n",
       "0          0  00000000   True\n",
       "32        32  00100000   True\n",
       "64        64  01000000   True\n",
       "96        96  01100000   True\n",
       "128      128  10000000   True\n",
       "160      160  10100000   True\n",
       "192      192  11000000   True\n",
       "224      224  11100000   True"
      ]
     },
     "metadata": {},
     "output_type": "display_data"
    },
    {
     "name": "stdout",
     "output_type": "stream",
     "text": [
      "[  0  32  64  96 128 160 192 224]\n"
     ]
    }
   ],
   "source": [
    "lut_qa = pd.DataFrame({\"integer\":list(range(256)), \n",
    "                       \"binary\": [\"\"] * 256,\n",
    "                       \"valid\": [False]*256})\n",
    "# if all of the last 5 binary digits are 0 then the pixel is valid   \n",
    "# https://hls.gsfc.nasa.gov/wp-content/uploads/2018/10/HLS.v1.4.UserGuide_draft_ver3.0_clean.pdf\n",
    "valid = np.array(list(\"00000\"))\n",
    "for i in range(256):\n",
    "    binary_str = \"{0:08b}\".format(i)\n",
    "    lut_qa.loc[i, \"binary\"] = binary_str\n",
    "    if all(np.array(list(binary_str[-5:])) == valid): \n",
    "        lut_qa.loc[i, \"valid\"] = True\n",
    "\n",
    "lut_valid = lut_qa[lut_qa[\"valid\"]]\n",
    "qa_valid_values = lut_valid[\"integer\"].values\n",
    "display(lut_valid)\n",
    "print(qa_valid_values)"
   ]
  },
  {
   "cell_type": "markdown",
   "metadata": {},
   "source": [
    "A read-mask-write function:"
   ]
  },
  {
   "cell_type": "code",
   "execution_count": 120,
   "metadata": {},
   "outputs": [],
   "source": [
    "def hls_qa_to_clearsky_mask(qa_path, clear_path, overwrite=False):\n",
    "    clear_sky_int = [0, 32, 64, 96, 160, 192, 224]\n",
    "\n",
    "    with rasterio.open(qa_path) as qa:\n",
    "        meta = qa.meta\n",
    "        qa_array = qa.read(1)\n",
    "\n",
    "    if not clear_path.exists() or overwrite:\n",
    "        with rasterio.open(qa_path) as qa:\n",
    "            meta = qa.meta\n",
    "            qa_array = qa.read()\n",
    "\n",
    "        meta.update(compress=\"lzw\")\n",
    "        clear_array = np.zeros_like(qa_array)\n",
    "        for num in qa_valid_values:\n",
    "            clear_array[qa_array==num] = 1\n",
    "        with rasterio.open(clear_path, \"w\", **meta) as dst:\n",
    "            dst.write(clear_array)"
   ]
  },
  {
   "cell_type": "markdown",
   "metadata": {},
   "source": [
    "Mask L30 and 32UNU scenes: "
   ]
  },
  {
   "cell_type": "code",
   "execution_count": 123,
   "metadata": {},
   "outputs": [],
   "source": [
    "scene_dirs = list(prjconf.get_path(\"Interim\", \"hls\").glob(\"*L30*32UNU*\"))\n",
    "for i, scenedir in enumerate(scene_dirs):\n",
    "    qa_path = list(scenedir.rglob(\"*QA*\"))[0]\n",
    "    clear_path = Path(str(qa_path).replace(\"__QA\", \"__CLEAR\"))\n",
    "    hls_qa_to_clearsky_mask(qa_path=qa_path, clear_path=clear_path, overwrite=False)"
   ]
  }
 ],
 "metadata": {
  "kernelspec": {
   "display_name": "Python 3",
   "language": "python",
   "name": "python3"
  },
  "language_info": {
   "codemirror_mode": {
    "name": "ipython",
    "version": 3
   },
   "file_extension": ".py",
   "mimetype": "text/x-python",
   "name": "python",
   "nbconvert_exporter": "python",
   "pygments_lexer": "ipython3",
   "version": "3.6.7"
  }
 },
 "nbformat": 4,
 "nbformat_minor": 2
}
