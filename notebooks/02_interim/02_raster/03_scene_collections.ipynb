{
 "cells": [
  {
   "cell_type": "markdown",
   "metadata": {},
   "source": [
    "# Define scene collections"
   ]
  },
  {
   "cell_type": "code",
   "execution_count": 2,
   "metadata": {},
   "outputs": [],
   "source": [
    "%load_ext autoreload\n",
    "%autoreload 2\n",
    "%matplotlib inline\n",
    "\n",
    "# - - - - - - - - - - - - - - - - - - - - \n",
    "# DEFAULT IMPORTS - IN ALL NOTEBOKS\n",
    "from src import configs\n",
    "\n",
    "prjconf = configs.ProjectConfigParser()\n",
    "\n",
    "# - - - - - - - - - - - - - - - - - - - - \n",
    "# NOTEBOOK SPECIFIC IMPORTS\n",
    "import numpy as np\n",
    "from pathlib import Path\n",
    "import pandas as pd\n",
    "import rasterio\n",
    "from tqdm import tqdm \n",
    "\n",
    "import nasa_hls"
   ]
  },
  {
   "cell_type": "markdown",
   "metadata": {},
   "source": [
    "## Select scenes for a scene collection\n",
    "\n",
    "### Create dataframe with all scenes"
   ]
  },
  {
   "cell_type": "code",
   "execution_count": 13,
   "metadata": {},
   "outputs": [
    {
     "name": "stderr",
     "output_type": "stream",
     "text": [
      "100%|██████████| 67/67 [00:02<00:00, 31.40it/s]\n"
     ]
    },
    {
     "data": {
      "text/html": [
       "<div>\n",
       "<style scoped>\n",
       "    .dataframe tbody tr th:only-of-type {\n",
       "        vertical-align: middle;\n",
       "    }\n",
       "\n",
       "    .dataframe tbody tr th {\n",
       "        vertical-align: top;\n",
       "    }\n",
       "\n",
       "    .dataframe thead th {\n",
       "        text-align: right;\n",
       "    }\n",
       "</style>\n",
       "<table border=\"1\" class=\"dataframe\">\n",
       "  <thead>\n",
       "    <tr style=\"text-align: right;\">\n",
       "      <th></th>\n",
       "      <th>sdir</th>\n",
       "      <th>sid</th>\n",
       "      <th>product</th>\n",
       "      <th>tile</th>\n",
       "      <th>date_Yj</th>\n",
       "      <th>date</th>\n",
       "      <th>cloud_cover</th>\n",
       "    </tr>\n",
       "  </thead>\n",
       "  <tbody>\n",
       "    <tr>\n",
       "      <th>0</th>\n",
       "      <td>/home/ben/Devel/Projects/classify-hls/data/int...</td>\n",
       "      <td>HLS.L30.T32UNU.2018355.v1</td>\n",
       "      <td>L30</td>\n",
       "      <td>T32UNU</td>\n",
       "      <td>2018355</td>\n",
       "      <td>2018-12-21</td>\n",
       "      <td>100.0</td>\n",
       "    </tr>\n",
       "    <tr>\n",
       "      <th>1</th>\n",
       "      <td>/home/ben/Devel/Projects/classify-hls/data/int...</td>\n",
       "      <td>HLS.L30.T32UNU.2018012.v1</td>\n",
       "      <td>L30</td>\n",
       "      <td>T32UNU</td>\n",
       "      <td>2018012</td>\n",
       "      <td>2018-01-12</td>\n",
       "      <td>86.0</td>\n",
       "    </tr>\n",
       "    <tr>\n",
       "      <th>2</th>\n",
       "      <td>/home/ben/Devel/Projects/classify-hls/data/int...</td>\n",
       "      <td>HLS.L30.T32UNU.2018204.v1</td>\n",
       "      <td>L30</td>\n",
       "      <td>T32UNU</td>\n",
       "      <td>2018204</td>\n",
       "      <td>2018-07-23</td>\n",
       "      <td>84.0</td>\n",
       "    </tr>\n",
       "    <tr>\n",
       "      <th>3</th>\n",
       "      <td>/home/ben/Devel/Projects/classify-hls/data/int...</td>\n",
       "      <td>HLS.L30.T32UNU.2018028.v1</td>\n",
       "      <td>L30</td>\n",
       "      <td>T32UNU</td>\n",
       "      <td>2018028</td>\n",
       "      <td>2018-01-28</td>\n",
       "      <td>100.0</td>\n",
       "    </tr>\n",
       "    <tr>\n",
       "      <th>4</th>\n",
       "      <td>/home/ben/Devel/Projects/classify-hls/data/int...</td>\n",
       "      <td>HLS.L30.T32UNU.2018300.v1</td>\n",
       "      <td>L30</td>\n",
       "      <td>T32UNU</td>\n",
       "      <td>2018300</td>\n",
       "      <td>2018-10-27</td>\n",
       "      <td>100.0</td>\n",
       "    </tr>\n",
       "  </tbody>\n",
       "</table>\n",
       "</div>"
      ],
      "text/plain": [
       "                                                sdir  \\\n",
       "0  /home/ben/Devel/Projects/classify-hls/data/int...   \n",
       "1  /home/ben/Devel/Projects/classify-hls/data/int...   \n",
       "2  /home/ben/Devel/Projects/classify-hls/data/int...   \n",
       "3  /home/ben/Devel/Projects/classify-hls/data/int...   \n",
       "4  /home/ben/Devel/Projects/classify-hls/data/int...   \n",
       "\n",
       "                         sid product    tile  date_Yj       date  cloud_cover  \n",
       "0  HLS.L30.T32UNU.2018355.v1     L30  T32UNU  2018355 2018-12-21        100.0  \n",
       "1  HLS.L30.T32UNU.2018012.v1     L30  T32UNU  2018012 2018-01-12         86.0  \n",
       "2  HLS.L30.T32UNU.2018204.v1     L30  T32UNU  2018204 2018-07-23         84.0  \n",
       "3  HLS.L30.T32UNU.2018028.v1     L30  T32UNU  2018028 2018-01-28        100.0  \n",
       "4  HLS.L30.T32UNU.2018300.v1     L30  T32UNU  2018300 2018-10-27        100.0  "
      ]
     },
     "metadata": {},
     "output_type": "display_data"
    }
   ],
   "source": [
    "scenelist = pd.DataFrame(list(prjconf.get_path(\"Interim\", \"hls\").glob(\"*\")), columns=[\"sdir\"])\n",
    "scenelist[\"sid\"] = scenelist[\"sdir\"].apply(lambda x: Path(x).stem)\n",
    "scenelist = pd.concat([scenelist,\n",
    "                       scenelist[\"sid\"].str.split(\".\", expand=True) \\\n",
    "                       .loc[:, [1, 2, 3]] \\\n",
    "                       .rename({1: \"product\", 2: \"tile\", 3: \"date_Yj\"}, axis=1)], axis=1)\n",
    "scenelist[\"date\"] = pd.to_datetime(scenelist[\"date_Yj\"], format=\"%Y%j\")\n",
    "\n",
    "cc = []\n",
    "for i, row in tqdm(scenelist.iterrows(), total=scenelist.shape[0]):\n",
    "    hdf_path = prjconf.get_scene_hdf(date=row[\"date_Yj\"], tile=\"32UNU\", product=\"L30\")\n",
    "    cc.append(nasa_hls.get_cloud_coverage_from_hdf(hdf_path))\n",
    "scenelist[\"cloud_cover\"] = cc\n",
    "\n",
    "display(scenelist.head())"
   ]
  },
  {
   "cell_type": "code",
   "execution_count": 14,
   "metadata": {},
   "outputs": [
    {
     "data": {
      "text/plain": [
       "<matplotlib.axes._subplots.AxesSubplot at 0x7fc03c6c9978>"
      ]
     },
     "execution_count": 14,
     "metadata": {},
     "output_type": "execute_result"
    },
    {
     "data": {
      "image/png": "[encoded data removed]",
      "text/plain": [
       "<Figure size 432x288 with 1 Axes>"
      ]
     },
     "metadata": {
      "needs_background": "light"
     },
     "output_type": "display_data"
    }
   ],
   "source": [
    "scenelist.plot(x=\"date\", y=\"cloud_cover\")"
   ]
  }
 ],
 "metadata": {
  "kernelspec": {
   "display_name": "Python 3",
   "language": "python",
   "name": "python3"
  },
  "language_info": {
   "codemirror_mode": {
    "name": "ipython",
    "version": 3
   },
   "file_extension": ".py",
   "mimetype": "text/x-python",
   "name": "python",
   "nbconvert_exporter": "python",
   "pygments_lexer": "ipython3",
   "version": "3.6.7"
  }
 },
 "nbformat": 4,
 "nbformat_minor": 2
}
